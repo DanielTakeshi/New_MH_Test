{
 "cells": [
  {
   "cell_type": "code",
   "execution_count": 1,
   "metadata": {
    "collapsed": true
   },
   "outputs": [],
   "source": [
    "import numpy as np\n",
    "from math import *\n",
    "import matplotlib.pyplot as plt\n",
    "from scipy.stats import t\n",
    "from bisect import bisect\n",
    "import scipy.io\n",
    "import copy\n",
    "from scipy.stats import norm\n",
    "import numpy.matlib\n",
    "%matplotlib inline\n",
    "import h5py"
   ]
  },
  {
   "cell_type": "markdown",
   "metadata": {},
   "source": [
    "Cutting the MH budget method refers to Korattikara's 2014 paper\n",
    "\n",
    "Adaptive MH method refers to Bardenet's 2014 paper"
   ]
  },
  {
   "cell_type": "code",
   "execution_count": null,
   "metadata": {
    "collapsed": false
   },
   "outputs": [],
   "source": [
    "# generate some ground truth\n",
    "N = 1000000;\n",
    "sigma1_sq = 10\n",
    "sigma2_sq = 1\n",
    "sigmax_sq = 2\n",
    "theta1 = 0\n",
    "theta2 = 1\n",
    "\n",
    "# Generate the data matrix. Note that the np.random.normal(...) requires STD (not VAR).\n",
    "X = np.zeros(N)\n",
    "for i in xrange(N):\n",
    "    u = np.random.random()\n",
    "    if (u < 0.5):\n",
    "        X[i] = np.random.normal(theta1, np.sqrt(sigmax_sq))\n",
    "    else:\n",
    "        X[i] = np.random.normal(theta1+theta2, np.sqrt(sigmax_sq))\n",
    "\n",
    "\n",
    "def log_f(theta, X, N, T):\n",
    "    # the variance of X is 2, the variance of theta[0] is 10, the variance of theta[1] is 1\n",
    "    scale_and_temp = N / float(len(X) * T)\n",
    "    \n",
    "    inverse_covariance = np.array([[0.1,0],[0,1]])\n",
    "    prior_constant = 1.0 / (2*np.pi*np.sqrt(10))\n",
    "    prior = np.log(prior_constant) - 0.5*(theta.T).dot(inverse_covariance).dot(theta)\n",
    "    \n",
    "    X_all = X.reshape((len(X),1))\n",
    "    ll_constant = (1.0 / (4*np.sqrt(np.pi)))\n",
    "    L = ll_constant * (np.exp(-0.25*(X_all-theta[0])**2) + np.exp(-0.25*(X_all-(theta[0]+theta[1]))**2))\n",
    "    log_likelihood = np.sum(np.log(L)) * scale_and_temp\n",
    "    \n",
    "    assert (N / float(len(X))) >= 1\n",
    "    assert not np.isnan(prior + log_likelihood)\n",
    "    return (prior + log_likelihood)[0,0]\n",
    "\n",
    "K = 200\n",
    "T = 10000.0 # Temperature\n",
    "xlist = np.linspace(-1.5,2.5, num=K)\n",
    "ylist = np.linspace(-3.0,3.0, num=K)\n",
    "X_a,Y_a = np.meshgrid(xlist, ylist)\n",
    "Z_a = np.zeros((K,K))\n",
    "for i in range(K):\n",
    "    for j in range(K):\n",
    "        theta = np.array( [[X_a[i,j]],[Y_a[i,j]]] )\n",
    "        Z_a[i,j] = log_f(theta, X, N, T) "
   ]
  },
  {
   "cell_type": "code",
   "execution_count": null,
   "metadata": {
    "collapsed": false
   },
   "outputs": [],
   "source": [
    "# plot test result with Gaussian Mixture Model\n",
    "# test parameters : with nsamps = 5000, minibatchsize = 100, sigma_proposer = 0.5\n",
    "# number of data points = 10,000, temperature = 100\n",
    "'''load data '''\n",
    "f = h5py.File('gaussiandata.mat','r');\n",
    "samples1 = np.array(f['newtestsamples'])\n",
    "samples2 = np.array(f['oldtestsamples'])\n",
    "samples3 = np.array(f['cutmhsamples'])\n",
    "samples4 = np.array(f['adaptivemhsamples'])\n",
    "samples5 = np.array(f['cutmhwithsamples'])\n",
    "size1 = np.array(f['newtestsize'])\n",
    "size2 = np.array(f['oldtestsize'])\n",
    "size3 = np.array(f['cutmhsize'])\n",
    "size4 = np.array(f['adaptivemhsize'])\n",
    "size5 = np.array(f['cutmhwithsize'])\n",
    "ll1 = np.array(f['newtestll'])\n",
    "ll2 = np.array(f['oldtestll'])\n",
    "ll3 = np.array(f['cutmhll'])\n",
    "ll4 = np.array(f['adaptivemhll'])\n",
    "bc1c2 = np.array(f['adaptivemhbc1c2'])\n",
    "time_list = np.array(f['time_list'])"
   ]
  },
  {
   "cell_type": "code",
   "execution_count": null,
   "metadata": {
    "collapsed": false
   },
   "outputs": [],
   "source": [
    "mymap2 = plt.get_cmap(\"Greys\")\n",
    "m_c2 = mymap2(400)\n",
    "\n",
    "fig, axarr = plt.subplots(1,6, figsize=(35, 5))\n",
    "axarr[0].set_title(\"Log Posterior\", size=\"xx-large\")\n",
    "axarr[0].contour(X_a,Y_a,Z_a,300)\n",
    "\n",
    "# plot posterior distribution\n",
    "axarr[1].set_title(\"Our Test\", size=\"xx-large\")\n",
    "axarr[1].scatter(samples1[:,0], samples1[:,1], color = m_c2, alpha=0.15)\n",
    "axarr[1].set_xlim([-1.5,2.5])\n",
    "axarr[1].set_ylim([-3,3])\n",
    "\n",
    "axarr[2].set_title(\"Standard MCMC\", size=\"xx-large\")\n",
    "axarr[2].scatter(samples2[:,0], samples2[:,1], color = m_c2, alpha=0.15)\n",
    "axarr[2].set_xlim([-1.5,2.5])\n",
    "axarr[2].set_ylim([-3,3])\n",
    "\n",
    "axarr[3].set_title(\"Cut MH\", size=\"xx-large\")\n",
    "axarr[3].scatter(samples3[:,0], samples3[:,1], color = m_c2, alpha=0.15)\n",
    "axarr[3].set_xlim([-1.5,2.5])\n",
    "axarr[3].set_ylim([-3,3])\n",
    "\n",
    "axarr[4].set_title(\"Adaptive MH\", size=\"xx-large\")\n",
    "axarr[4].scatter(samples4[:,0], samples4[:,1], color = m_c2, alpha=0.15)\n",
    "axarr[4].set_xlim([-1.5,2.5])\n",
    "axarr[4].set_ylim([-3,3])\n",
    "\n",
    "axarr[5].set_title(\"Cut MH With Decreasing Error Bound\", size=\"xx-large\")\n",
    "axarr[5].scatter(samples5[:,0], samples5[:,1], color = m_c2, alpha=0.15)\n",
    "axarr[5].set_xlim([-1.5,2.5])\n",
    "axarr[5].set_ylim([-3,3])\n",
    "plt.savefig('../figures/GaussianMixtureResult/posterior_of_gaussian.eps', dpi=800)"
   ]
  },
  {
   "cell_type": "code",
   "execution_count": null,
   "metadata": {
    "collapsed": false
   },
   "outputs": [],
   "source": [
    "# plot minibatch size distribution\n",
    "fig, axarr = plt.subplots(1,5, figsize=(33, 4))\n",
    "\n",
    "axarr[0].set_title(\"Our Test\", size=\"xx-large\")\n",
    "axarr[0].hist(size1, bins=50, facecolor ='green')\n",
    "axarr[0].set_xlabel(\"Final Minibatch Sizes\", size=\"xx-large\")\n",
    "axarr[0].set_ylabel(\"Total Counts\", size=\"xx-large\")\n",
    "print np.mean(size1)\n",
    "axarr[1].set_title(\"Standard MCMC\", size=\"xx-large\")\n",
    "axarr[1].hist(size2, bins=50, facecolor ='green')\n",
    "axarr[1].set_xlabel(\"Final Minibatch Sizes\", size=\"xx-large\")\n",
    "axarr[1].set_ylabel(\"Total Counts\", size=\"xx-large\")\n",
    "print np.mean(size2)\n",
    "axarr[2].set_title(\"Cut MH\", size=\"xx-large\")\n",
    "axarr[2].hist(size3, bins=50, facecolor ='green')\n",
    "axarr[2].set_xlabel(\"Final Minibatch Sizes\", size=\"xx-large\")\n",
    "axarr[2].set_ylabel(\"Total Counts\", size=\"xx-large\")\n",
    "print np.mean(size3)\n",
    "axarr[3].set_title(\"Adaptive MH\", size=\"xx-large\")\n",
    "axarr[3].hist(size4, bins=50, facecolor ='green')\n",
    "axarr[3].set_xlabel(\"Final Minibatch Sizes\", size=\"xx-large\")\n",
    "axarr[3].set_ylabel(\"Total Counts\", size=\"xx-large\")\n",
    "print np.mean(size4)\n",
    "axarr[4].set_title(\"Cut MH with Decreasing Error Bound\", size=\"xx-large\")\n",
    "axarr[4].hist(size5, bins=50, facecolor ='green')\n",
    "axarr[4].set_xlabel(\"Final Minibatch Sizes\", size=\"xx-large\")\n",
    "axarr[4].set_ylabel(\"Total Counts\", size=\"xx-large\")\n",
    "print np.mean(size5)\n",
    "print \"Accelerate over old test is\", np.sum(size2)/np.sum(size1)*1.0\n",
    "print \"Accelerate over cut mh budget test is\", np.sum(size3)/np.sum(size1)*1.0\n",
    "print \"Accelerate over adaptive mh test is\", np.sum(size4)/np.sum(size1)*1.0\n",
    "print \"Accelerate over cut mh budget test with decreasing error bound is\", np.sum(size5)/np.sum(size1)*1.0\n",
    "\n",
    "# print 'time acceleration over old test is', time_list[1]/time_list[0]\n",
    "# print 'time acceleration over cut mh budget test is', time_list[2]/time_list[0]\n",
    "# print 'time acceleration over adaptive mh test is', time_list[3]/time_list[0]\n",
    "# print \"time acceleration over cut mh budget test with decreasing error bound is\",  time_list[4]/time_list[0]\n",
    "plt.savefig('../figures/GaussianMixtureResult/minibatch_size_gaussian.eps', dpi=800)"
   ]
  },
  {
   "cell_type": "code",
   "execution_count": null,
   "metadata": {
    "collapsed": false
   },
   "outputs": [],
   "source": [
    "batch_size = bc1c2[:,0]\n",
    "c1 = bc1c2[:,1]\n",
    "c2 = bc1c2[:,2]\n",
    "\n",
    "avg_c1 = np.zeros(int(np.max(batch_size)))\n",
    "avg_c2 = np.zeros(int(np.max(batch_size)))\n",
    "for b in range(100, int(np.max(batch_size))+1):\n",
    "    index = [i for i in xrange(len(batch_size)) if batch_size[i] == b]\n",
    "    if len(index) > 0:\n",
    "        avg_c1[b-1] = np.mean(c1[index])\n",
    "        avg_c2[b-1] = np.mean(c2[index])"
   ]
  },
  {
   "cell_type": "code",
   "execution_count": null,
   "metadata": {
    "collapsed": false
   },
   "outputs": [],
   "source": [
    "index = [i for i in xrange(len(avg_c1)) if ( avg_c1[i] !=0 and avg_c2[i] != 0 )]\n",
    "c1_final = avg_c1[index]\n",
    "c2_final = avg_c2[index]\n",
    "batchsize = np.linspace(1,int(np.max(batch_size)), int(np.max(batch_size)))\n",
    "batch_final = batchsize[index]\n",
    "\n",
    "fig, axarr = plt.subplots(1,2, figsize=(20, 3))\n",
    "axarr[0].set_title(\"First Part of Error Bound in Adaptive MH Test\", size=\"x-large\")\n",
    "axarr[0].plot(batch_final, c1_final,'*')\n",
    "axarr[0].set_xlabel(\"Actual Minibatch Size\", size=\"x-large\")\n",
    "axarr[0].set_ylabel(\"First Part of Error Bound\", size=\"x-large\")\n",
    "\n",
    "axarr[1].set_title(\"Second Part of Error Bound in Adaptive MH Test\", size=\"x-large\")\n",
    "axarr[1].plot(batch_final, c2_final, '*')\n",
    "axarr[1].set_xlabel(\"Actual Minibatch Size\", size=\"x-large\")\n",
    "axarr[1].set_ylabel(\"Second Part of Error Bound\", size=\"x-large\")\n",
    "plt.savefig('../figures/GaussianMixtureResult/first_second_part_gaussian.eps', dpi=800)"
   ]
  },
  {
   "cell_type": "code",
   "execution_count": null,
   "metadata": {
    "collapsed": true
   },
   "outputs": [],
   "source": []
  }
 ],
 "metadata": {
  "kernelspec": {
   "display_name": "Python 2",
   "language": "python",
   "name": "python2"
  },
  "language_info": {
   "codemirror_mode": {
    "name": "ipython",
    "version": 2
   },
   "file_extension": ".py",
   "mimetype": "text/x-python",
   "name": "python",
   "nbconvert_exporter": "python",
   "pygments_lexer": "ipython2",
   "version": "2.7.11"
  }
 },
 "nbformat": 4,
 "nbformat_minor": 0
}
