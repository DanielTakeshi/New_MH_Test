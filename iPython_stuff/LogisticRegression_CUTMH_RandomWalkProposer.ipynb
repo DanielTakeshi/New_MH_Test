{
 "cells": [
  {
   "cell_type": "code",
   "execution_count": 1,
   "metadata": {
    "collapsed": false
   },
   "outputs": [
    {
     "name": "stdout",
     "output_type": "stream",
     "text": [
      "Populating the interactive namespace from numpy and matplotlib\n"
     ]
    },
    {
     "name": "stderr",
     "output_type": "stream",
     "text": [
      "WARNING: pylab import has clobbered these variables: ['cosh', 'ldexp', 'hypot', 'tan', 'isnan', 'log', 'fabs', 'floor', 'sqrt', 'frexp', 'degrees', 'pi', 'log10', 'sin', 'norm', 'modf', 'copysign', 'cos', 'ceil', 'isinf', 'sinh', 'copy', 'trunc', 'expm1', 'e', 'tanh', 'radians', 'fmod', 'exp', 'log1p', 'gamma']\n",
      "`%matplotlib` prevents importing * from pylab and numpy\n"
     ]
    }
   ],
   "source": [
    "import numpy as np\n",
    "from math import *\n",
    "import matplotlib.pyplot as plt\n",
    "from scipy.stats import t\n",
    "from bisect import bisect\n",
    "import scipy.io\n",
    "import copy\n",
    "from scipy.stats import norm\n",
    "import numpy.matlib\n",
    "%pylab inline\n",
    "%matplotlib inline"
   ]
  },
  {
   "cell_type": "code",
   "execution_count": 2,
   "metadata": {
    "collapsed": false
   },
   "outputs": [
    {
     "name": "stdout",
     "output_type": "stream",
     "text": [
      "(12007,)\n",
      "(12007, 784)\n",
      "<type 'numpy.ndarray'>\n",
      "<type 'numpy.ndarray'>\n",
      "(784,)\n"
     ]
    }
   ],
   "source": [
    "\"\"\"\n",
    "This notebook implements the Logistic Regression in the \n",
    "\"Cutting the Metropolis Hastings Budget\" framework. \n",
    "\n",
    "The target distribution is the posterior for a logistic regression\n",
    "model trained on MNIST dataset for classifying digits 7 vs 9. The \n",
    "dataset consisted of 12007 datapoints. \n",
    "\"\"\"\n",
    "\n",
    "# get input data\n",
    "\n",
    "mat = scipy.io.loadmat('minist7vs1.mat')\n",
    "TrainLabel = mat['TrainLabel']\n",
    "TrainLabel = np.reshape(TrainLabel, TrainLabel.shape[1],1)\n",
    "TrainImg = mat['TrainImg']\n",
    "TestImg = mat['TestImg']\n",
    "TestLabel = mat['TestLabel']\n",
    "print TrainLabel.shape\n",
    "print TrainImg.shape\n",
    "print TrainImg[0].shape\n",
    "TestLabel = np.reshape(TestLabel, TestLabel.shape[1],1)"
   ]
  },
  {
   "cell_type": "code",
   "execution_count": 3,
   "metadata": {
    "collapsed": false,
    "scrolled": false
   },
   "outputs": [],
   "source": [
    "\"\"\"\n",
    "Cutting the Metropolis Hastings Budget Method\n",
    "\"\"\"\n",
    "def random_walk_proposer(beta_t, sigmarw):\n",
    "    \"\"\"\n",
    "    Input: beta_t  : previous parameters, 1-D array\n",
    "           sigmarw : standard deviation, 1-D array\n",
    "    \"\"\"\n",
    "    res = (np.random.multivariate_normal(beta_t, np.diag(sigmarw))).reshape((len(beta_t),))\n",
    "    return res\n",
    "\n",
    "def ll_data(beta_t, beta_n, X, Y):\n",
    "    p_x_beta_t = 1/(1 + exp(-1* Y*np.dot(beta_t,X)))\n",
    "    p_x_beta_n = 1/(1 + exp(-1* Y*np.dot(beta_n,X)))\n",
    "    return log(p_x_beta_n) - log(p_x_beta_t)\n",
    "\n",
    "def eval_U0(N):\n",
    "    u = np.random.random()\n",
    "    return 1/N*log(u)\n",
    "\n",
    "def make_decision(l_list, N, U0):\n",
    "    n = float(len(l_list))\n",
    "    l_mean = sum(l_list)/n\n",
    "    l_sq = ((np.array(l_list))**2).tolist()\n",
    "    l_sq_mean = sum(l_sq)/n\n",
    "    sl = sqrt((l_sq_mean - l_mean*l_mean)*n/(n-1))\n",
    "    s = sl/sqrt(n) * sqrt(1 - (n-1)/(N-1))\n",
    "    t_stats = abs((l_mean - U0)/s)\n",
    "    delta = 1 - t.cdf(t_stats, n-1)\n",
    "    return delta\n",
    "    \n",
    "def generate_parameter(beta_t, N, sigmarw, X, Y, batchsize, epsilon ):\n",
    "    U0 = eval_U0(N)\n",
    "    # generate new parameter\n",
    "    P = len(X[0])\n",
    "    sigma = (np.matlib.repmat(sigmarw, P,1)).reshape(P,)\n",
    "    beta_n = random_walk_proposer(beta_t, sigma)\n",
    "    \n",
    "    # make decision\n",
    "    l_list = []\n",
    "    for i in range(batchsize):\n",
    "        mid = ll_data(beta_t, beta_n, X[i], Y[i])\n",
    "        l_list.append(mid)\n",
    "    \n",
    "    pos = batchsize\n",
    "    delta = make_decision(l_list, N, U0)\n",
    "    while (delta>epsilon) and (pos < N):\n",
    "        mid = ll_data(beta_t, beta_n, X[pos], Y[pos])\n",
    "        l_list.append(mid)\n",
    "        pos = pos + 1\n",
    "        delta = make_decision(l_list, N, U0)\n",
    "    \n",
    "    l_mean = sum(l_list)/float(len(l_list))\n",
    "    if l_mean > U0:\n",
    "        return (beta_n,1,pos)\n",
    "    else:\n",
    "        return (beta_t,0,pos)\n",
    "    \n",
    "def eval_cost(X,Y,beta):\n",
    "    N = len(Y)\n",
    "    cost = 0\n",
    "    for i in range(N):\n",
    "        # sigmoid = 1/(1 + exp(-1* Y[i]*np.dot(beta,X[i])))\n",
    "        sigmoid = -1.0 * np.log(1 + exp(-1 * Y[i] * np.dot(beta, X[i])))\n",
    "        # if sigmoid < 0.5 : \n",
    "        cost = cost + sigmoid\n",
    "    return cost/float(N)\n",
    "    \n",
    "def train(X, Y, sigmarw, batchsize, epsilon, niter):\n",
    "    N = len(Y) # number of total training data\n",
    "    P = len(X[0]) # parameter dimension\n",
    "    beta_t = np.ones(P)\n",
    "    cost_list = []\n",
    "    accept_pos = []\n",
    "    for i in range(niter):\n",
    "        index = np.random.permutation(N)\n",
    "        X = X[index]\n",
    "        Y = Y[index]\n",
    "        (beta_t, mid, pos) = generate_parameter(beta_t, N, sigmarw, X,Y,batchsize,epsilon)\n",
    "        # cost = eval_cost(X,Y,beta_t)\n",
    "        cost = eval_cost(TestImg, TestLabel, beta_t)\n",
    "        cost_list.append(cost)\n",
    "        accept_pos.append(pos)\n",
    "    return (cost_list, accept_pos)\n",
    "\n",
    "X = TrainImg\n",
    "Y = TrainLabel\n",
    "sigmarw = 0.01\n",
    "batchsize = 10\n",
    "epsilon = 0.02\n",
    "niter = 500\n",
    "(cost_list, accept_pos) = train(X, Y, sigmarw, batchsize, epsilon, niter)"
   ]
  },
  {
   "cell_type": "code",
   "execution_count": 4,
   "metadata": {
    "collapsed": false,
    "scrolled": true
   },
   "outputs": [
    {
     "data": {
      "image/png": "[encoded data removed]",
      "text/plain": [
       "<matplotlib.figure.Figure at 0x110bf9c90>"
      ]
     },
     "metadata": {},
     "output_type": "display_data"
    },
    {
     "name": "stdout",
     "output_type": "stream",
     "text": [
      "500\n",
      "[248, 61, 10, 147, 22, 12, 10, 187, 80, 34, 890, 64, 101, 35, 5146, 47, 14, 87, 10, 70, 30, 15, 49, 19, 18, 10, 19, 20, 1508, 48, 33, 16, 88, 14, 10, 88, 37, 20, 30, 432, 44, 65, 22, 53, 94, 19, 10, 10, 693, 18, 374, 10, 10, 16, 17, 10, 10, 648, 10, 16, 11, 10, 12, 17, 41, 233, 315, 25, 15, 22, 11, 10, 52, 779, 119, 10, 11, 62, 13, 16, 8181, 26, 64, 10, 19, 489, 31, 18, 10, 17, 477, 2606, 16, 10, 24, 37, 27, 35, 11, 126, 17, 73, 26, 15, 13, 26, 10, 19, 20, 24, 37, 59, 22, 1214, 28, 76, 10, 15, 11, 21, 22, 12, 17, 10, 27, 10, 52, 12, 37, 12, 277, 120, 45, 50, 23, 11, 16, 13, 79, 49, 195, 37, 62, 55, 16, 12, 48, 14, 66, 21, 3078, 15, 10, 137, 39, 10, 42, 22, 12, 14, 83, 17, 10, 18, 22, 69, 10, 291, 73, 10, 21, 133, 1148, 10, 10, 452, 11, 48, 22, 71, 32, 1572, 10, 13, 10, 35, 17, 45, 15, 10, 374, 10, 19, 126, 10, 134, 39, 100, 33, 30, 64, 38, 148, 10, 10, 186, 12, 59, 10, 91, 359, 35, 18, 10, 14, 36, 27, 757, 87, 90, 373, 12, 101, 13, 13, 25, 14, 10, 16, 31, 10, 29, 16, 303, 24, 33, 25, 10, 10, 25, 29, 14, 94, 10, 20, 274, 19, 79, 19, 14, 10, 13, 22, 36, 46, 251, 16, 71, 10, 14, 29, 19, 12, 19, 31, 10, 50, 351, 43, 119, 250, 37, 13, 14, 45, 14, 16, 17, 12, 12, 25, 17, 17, 124, 14, 10, 869, 97, 2416, 59, 116, 16, 17, 260, 1741, 20, 35, 2026, 117, 17, 10, 11, 10, 638, 10, 106, 10, 170, 90, 30, 23, 26, 18, 15, 16, 529, 89, 33, 53, 26, 42, 9054, 66, 994, 39, 11, 43, 19, 857, 130, 42, 116, 16, 39, 20, 34, 39, 78, 192, 146, 31, 92, 125, 58, 26, 4844, 167, 40, 16, 12, 15, 132, 155, 72, 13, 22, 44, 285, 25, 51, 39, 41, 49, 20, 15, 12, 96, 41, 374, 33, 31, 861, 703, 5702, 44, 161, 13, 353, 15, 18, 77, 11, 66, 62, 89, 54, 39, 8834, 2625, 1452, 115, 1068, 1249, 97, 180, 19, 67, 62, 161, 24, 1642, 27, 85, 108, 1237, 42, 89, 40, 33, 70, 156, 237, 380, 131, 41, 306, 48, 93, 31, 20, 64, 41, 1481, 58, 94, 990, 964, 61, 126, 55, 120, 61, 90, 1446, 18, 130, 65, 35, 144, 29, 2271, 81, 17, 20, 444, 76, 143, 275, 103, 1068, 180, 69, 1272, 163, 167, 721, 1473, 2011, 2109, 44, 56, 715, 248, 39, 116, 1682, 1052, 362, 279, 149, 11790, 2019, 2480, 33, 8963, 218, 824, 32, 23, 2147, 1352, 248, 115, 57, 7618, 84, 276, 104, 1976, 16, 588, 114, 268, 144, 2238, 7764, 123, 21, 461, 88]\n"
     ]
    }
   ],
   "source": [
    "plt.figure()\n",
    "plt.plot(cost_list)\n",
    "plt.xlabel('Iteration')\n",
    "plt.ylabel('Cost')\n",
    "plt.show()\n",
    "print len(cost_list)\n",
    "print accept_pos"
   ]
  },
  {
   "cell_type": "code",
   "execution_count": 5,
   "metadata": {
    "collapsed": false
   },
   "outputs": [
    {
     "name": "stdout",
     "output_type": "stream",
     "text": [
      "353.098\n"
     ]
    }
   ],
   "source": [
    "print sum(accept_pos)/float(len(accept_pos))"
   ]
  },
  {
   "cell_type": "code",
   "execution_count": 6,
   "metadata": {
    "collapsed": false
   },
   "outputs": [
    {
     "name": "stdout",
     "output_type": "stream",
     "text": [
      "500\n",
      "500\n"
     ]
    },
    {
     "data": {
      "image/png": "[encoded data removed]",
      "text/plain": [
       "<matplotlib.figure.Figure at 0x110cc6510>"
      ]
     },
     "metadata": {},
     "output_type": "display_data"
    }
   ],
   "source": [
    "cumulate_datasize = [accept_pos[0]]\n",
    "cumulate = accept_pos[0]\n",
    "for i in range(1,len(accept_pos)):\n",
    "    cumulate += accept_pos[i]\n",
    "    cumulate_datasize.append(cumulate)\n",
    "\n",
    "plt.figure()\n",
    "print len(cumulate_datasize)\n",
    "print len(cost_list)\n",
    "plt.plot(cumulate_datasize, cost_list) \n",
    "plt.xlabel('Cumulative Data Size')\n",
    "plt.ylabel('Likelihood Value')\n",
    "plt.show()"
   ]
  }
 ],
 "metadata": {
  "kernelspec": {
   "display_name": "Python 2",
   "language": "python",
   "name": "python2"
  },
  "language_info": {
   "codemirror_mode": {
    "name": "ipython",
    "version": 2
   },
   "file_extension": ".py",
   "mimetype": "text/x-python",
   "name": "python",
   "nbconvert_exporter": "python",
   "pygments_lexer": "ipython2",
   "version": "2.7.11"
  }
 },
 "nbformat": 4,
 "nbformat_minor": 0
}
