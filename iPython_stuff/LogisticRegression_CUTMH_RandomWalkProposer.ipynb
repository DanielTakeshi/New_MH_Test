{
 "cells": [
  {
   "cell_type": "code",
   "execution_count": 17,
   "metadata": {
    "collapsed": false
   },
   "outputs": [],
   "source": [
    "import numpy as np\n",
    "from math import *\n",
    "import matplotlib.pyplot as plt\n",
    "from scipy.stats import t\n",
    "from bisect import bisect\n",
    "import scipy.io\n",
    "import copy\n",
    "from scipy.stats import norm\n",
    "import numpy.matlib\n",
    "%matplotlib inline"
   ]
  },
  {
   "cell_type": "code",
   "execution_count": 18,
   "metadata": {
    "collapsed": false
   },
   "outputs": [
    {
     "name": "stdout",
     "output_type": "stream",
     "text": [
      "(12007,)\n",
      "(12007, 784)\n",
      "(784,)\n"
     ]
    }
   ],
   "source": [
    "\"\"\"\n",
    "This notebook implements the Logistic Regression in the \n",
    "\"Cutting the Metropolis Hastings Budget\" framework. \n",
    "\n",
    "The target distribution is the posterior for a logistic regression\n",
    "model trained on MNIST dataset for classifying digits 7 vs 9. The \n",
    "dataset consisted of 12007 datapoints. \n",
    "\"\"\"\n",
    "\n",
    "# get input data\n",
    "\n",
    "mat = scipy.io.loadmat('minist7vs1.mat')\n",
    "TrainLabel = mat['TrainLabel']\n",
    "TrainLabel = np.reshape(TrainLabel, TrainLabel.shape[1],1)\n",
    "TrainImg = mat['TrainImg']\n",
    "TestImg = mat['TestImg']\n",
    "TestLabel = mat['TestLabel']\n",
    "print TrainLabel.shape\n",
    "print TrainImg.shape\n",
    "print TrainImg[0].shape\n",
    "TestLabel = np.reshape(TestLabel, TestLabel.shape[1],1)"
   ]
  },
  {
   "cell_type": "code",
   "execution_count": 19,
   "metadata": {
    "collapsed": false,
    "scrolled": false
   },
   "outputs": [],
   "source": [
    "\"\"\"\n",
    "Cutting the Metropolis Hastings Budget Method\n",
    "\"\"\"\n",
    "def random_walk_proposer(beta_t, sigmarw):\n",
    "    \"\"\"\n",
    "    Input: beta_t  : previous parameters, 1-D array\n",
    "           sigmarw : standard deviation, 1-D array\n",
    "    \"\"\"\n",
    "    res = (np.random.multivariate_normal(beta_t, np.diag(sigmarw))).reshape((len(beta_t),))\n",
    "    return res\n",
    "\n",
    "def ll_data(beta_t, beta_n, X, Y):\n",
    "    p_x_beta_t = 1/(1 + exp(-1* Y*np.dot(beta_t,X)))\n",
    "    p_x_beta_n = 1/(1 + exp(-1* Y*np.dot(beta_n,X)))\n",
    "    return log(p_x_beta_n) - log(p_x_beta_t)\n",
    "\n",
    "def eval_U0(N):\n",
    "    u = np.random.random()\n",
    "    return 1/N*log(u)\n",
    "\n",
    "def make_decision(l_list, N, U0):\n",
    "    n = float(len(l_list))\n",
    "    l_mean = sum(l_list)/n\n",
    "    l_sq = ((np.array(l_list))**2).tolist()\n",
    "    l_sq_mean = sum(l_sq)/n\n",
    "    sl = sqrt((l_sq_mean - l_mean*l_mean)*n/(n-1))\n",
    "    s = sl/sqrt(n) * sqrt(1 - (n-1)/(N-1))\n",
    "    t_stats = abs((l_mean - U0)/s)\n",
    "    delta = 1 - t.cdf(t_stats, n-1)\n",
    "    return delta\n",
    "    \n",
    "def generate_parameter(beta_t, N, sigmarw, X, Y, batchsize, epsilon ):\n",
    "    U0 = eval_U0(N)\n",
    "    # generate new parameter\n",
    "    P = len(X[0])\n",
    "    sigma = (np.matlib.repmat(sigmarw, P,1)).reshape(P,)\n",
    "    beta_n = random_walk_proposer(beta_t, sigma)\n",
    "    \n",
    "    # make decision\n",
    "    l_list = []\n",
    "    for i in range(batchsize):\n",
    "        mid = ll_data(beta_t, beta_n, X[i], Y[i])\n",
    "        l_list.append(mid)\n",
    "    \n",
    "    pos = batchsize\n",
    "    delta = make_decision(l_list, N, U0)\n",
    "    while (delta>epsilon) and (pos < N):\n",
    "        mid = ll_data(beta_t, beta_n, X[pos], Y[pos])\n",
    "        l_list.append(mid)\n",
    "        pos = pos + 1\n",
    "        delta = make_decision(l_list, N, U0)\n",
    "    \n",
    "    l_mean = sum(l_list)/float(len(l_list))\n",
    "    if l_mean > U0:\n",
    "        return (beta_n,1,pos)\n",
    "    else:\n",
    "        return (beta_t,0,pos)\n",
    "    \n",
    "def eval_cost(X,Y,beta):\n",
    "    N = len(Y)\n",
    "    cost = 0\n",
    "    accuracy = 0\n",
    "    for i in range(N):\n",
    "        sigmoid_accuracy = 1/(1 + exp(-1* Y[i]*np.dot(beta,X[i])))\n",
    "        if sigmoid_accuracy > 0.5 :\n",
    "            accuracy = accuracy + 1\n",
    "        sigmoid = -1.0 * np.log(1 + exp(-1 * Y[i] * np.dot(beta, X[i])))\n",
    "        cost = cost + sigmoid\n",
    "    return (cost/float(N), accuracy/float(N))\n",
    "    \n",
    "def train(X, Y, sigmarw, batchsize, epsilon, niter):\n",
    "    N = len(Y) # number of total training data\n",
    "    P = len(X[0]) # parameter dimension\n",
    "    beta_t = np.zeros(P)\n",
    "    cost_list = []\n",
    "    accept_pos = []\n",
    "    accuracy_list = []\n",
    "    for i in range(niter):\n",
    "        index = np.random.permutation(N)\n",
    "        X = X[index]\n",
    "        Y = Y[index]\n",
    "        (beta_t, mid, pos) = generate_parameter(beta_t, N, sigmarw, X,Y,batchsize,epsilon)\n",
    "        (cost,accuracy) = eval_cost(TestImg, TestLabel, beta_t)\n",
    "        cost_list.append(cost)\n",
    "        accuracy_list.append(accuracy)\n",
    "        accept_pos.append(pos)\n",
    "    return (cost_list, accept_pos, accuracy_list)\n",
    "\n",
    "X = TrainImg\n",
    "Y = TrainLabel\n",
    "sigmarw = 0.01\n",
    "batchsize = 10\n",
    "epsilon = 0.02\n",
    "niter = 500\n",
    "(cost_list, accept_pos, accuracy) = train(X, Y, sigmarw, batchsize, epsilon, niter)"
   ]
  },
  {
   "cell_type": "code",
   "execution_count": 20,
   "metadata": {
    "collapsed": false,
    "scrolled": true
   },
   "outputs": [
    {
     "data": {
      "image/png": "[encoded data removed]",
      "text/plain": [
       "<matplotlib.figure.Figure at 0x124676850>"
      ]
     },
     "metadata": {},
     "output_type": "display_data"
    },
    {
     "name": "stdout",
     "output_type": "stream",
     "text": [
      "500\n",
      "[27, 5699, 1249, 50, 2225, 14, 351, 157, 155, 73, 385, 28, 10, 57, 19, 44, 26, 55, 309, 30, 46, 373, 218, 412, 12, 1116, 17, 4386, 35, 175, 85, 31, 12, 3638, 1061, 63, 45, 10, 241, 24, 10, 11, 10, 95, 19, 35, 45, 296, 44, 21, 332, 30, 30, 484, 44, 325, 33, 12, 27, 14, 15, 214, 167, 34, 27, 57, 114, 88, 39, 10, 204, 41, 339, 272, 185, 23, 66, 237, 698, 255, 455, 526, 1060, 2415, 424, 5302, 285, 82, 1605, 624, 15, 35, 9182, 197, 190, 74, 281, 113, 68, 681, 67, 736, 156, 293, 5113, 2009, 76, 40, 16, 220, 1119, 138, 11266, 44, 100, 362, 233, 411, 643, 373, 2947, 43, 1524, 28, 544, 23, 74, 200, 725, 4638, 1320, 1809, 1278, 636, 281, 5634, 138, 316, 3492, 2007, 525, 1142, 10714, 51, 401, 140, 1185, 75, 191, 358, 66, 376, 825, 298, 538, 524, 279, 262, 2699, 979, 1624, 9464, 27, 209, 231, 406, 152, 319, 1354, 111, 106, 404, 506, 4336, 100, 375, 423, 577, 5935, 8681, 2145, 12, 353, 456, 10, 516, 856, 327, 724, 5969, 2123, 111, 1715, 211, 1079, 178, 338, 100, 67, 129, 11976, 643, 98, 3285, 271, 136, 84, 446, 1780, 198, 293, 940, 470, 986, 256, 5704, 437, 606, 6457, 7942, 358, 1525, 88, 1169, 713, 3133, 581, 11242, 999, 173, 557, 230, 403, 520, 1178, 4988, 63, 1850, 87, 1870, 180, 1734, 48, 3294, 151, 115, 3680, 54, 1228, 1871, 43, 6992, 10006, 715, 719, 10674, 329, 3236, 1733, 558, 800, 1182, 10974, 77, 2058, 443, 2249, 1616, 199, 861, 645, 760, 60, 2064, 186, 335, 1134, 8260, 4697, 505, 363, 4634, 182, 1308, 246, 219, 1026, 689, 40, 3150, 1902, 24, 557, 1205, 4900, 1573, 1806, 1305, 384, 822, 674, 8949, 2089, 1119, 3649, 1089, 534, 1039, 999, 239, 9337, 175, 939, 346, 1047, 2131, 5143, 250, 5240, 7264, 619, 61, 3547, 526, 522, 2567, 10255, 256, 1760, 6513, 382, 513, 257, 5083, 1410, 1516, 7023, 7072, 344, 6690, 189, 2996, 4656, 7543, 999, 118, 3137, 641, 429, 29, 42, 11872, 57, 1255, 2815, 396, 671, 423, 747, 1363, 1087, 91, 8045, 314, 23, 6199, 2151, 193, 6096, 6970, 159, 4237, 215, 575, 1313, 106, 17, 1197, 11480, 207, 10037, 2138, 1148, 954, 608, 236, 2908, 705, 183, 1693, 2169, 759, 4615, 1447, 515, 766, 374, 3169, 1917, 324, 10458, 114, 1157, 400, 1156, 4979, 4761, 1301, 2124, 7266, 414, 762, 193, 4890, 318, 1595, 1166, 3091, 10695, 1378, 1534, 1537, 9222, 10320, 579, 738, 28, 389, 10393, 8848, 323, 4115, 9775, 9834, 12, 6379, 1395, 4318, 218, 393, 398, 650, 1180, 2949, 6344, 216, 6010, 10932, 11345, 1006, 2357, 2229, 459, 2240, 1188, 4387, 1556, 7094, 10692, 2436, 6597, 388, 5310, 9577, 11606, 1258, 3976, 64, 1182, 11412, 684, 2936, 6457, 11173, 61, 325, 7073, 2652, 15, 1307, 287, 1042, 11861, 238, 318, 165, 2896, 9121, 492, 602, 917, 286, 627, 5222, 1634, 527, 397, 747, 172, 835]\n"
     ]
    }
   ],
   "source": [
    "plt.figure()\n",
    "plt.plot(cost_list)\n",
    "plt.xlabel('Iteration')\n",
    "plt.ylabel('Cost')\n",
    "plt.show()\n",
    "print len(cost_list)\n",
    "print accept_pos"
   ]
  },
  {
   "cell_type": "code",
   "execution_count": 21,
   "metadata": {
    "collapsed": false
   },
   "outputs": [
    {
     "name": "stdout",
     "output_type": "stream",
     "text": [
      "1876.268\n"
     ]
    }
   ],
   "source": [
    "print sum(accept_pos)/float(len(accept_pos))"
   ]
  },
  {
   "cell_type": "code",
   "execution_count": 22,
   "metadata": {
    "collapsed": false
   },
   "outputs": [
    {
     "name": "stdout",
     "output_type": "stream",
     "text": [
      "500\n",
      "500\n"
     ]
    },
    {
     "data": {
      "image/png": "[encoded data removed]",
      "text/plain": [
       "<matplotlib.figure.Figure at 0x1299f8b90>"
      ]
     },
     "metadata": {},
     "output_type": "display_data"
    }
   ],
   "source": [
    "cumulate_datasize = [accept_pos[0]]\n",
    "cumulate = accept_pos[0]\n",
    "for i in range(1,len(accept_pos)):\n",
    "    cumulate += accept_pos[i]\n",
    "    cumulate_datasize.append(cumulate)\n",
    "\n",
    "plt.figure()\n",
    "print len(cumulate_datasize)\n",
    "print len(cost_list)\n",
    "plt.plot(cumulate_datasize, cost_list) \n",
    "plt.xlabel('Cumulative Data Size')\n",
    "plt.ylabel('Likelihood Value')\n",
    "plt.show()"
   ]
  },
  {
   "cell_type": "code",
   "execution_count": 23,
   "metadata": {
    "collapsed": false
   },
   "outputs": [
    {
     "data": {
      "image/png": "[encoded data removed]",
      "text/plain": [
       "<matplotlib.figure.Figure at 0x129a88990>"
      ]
     },
     "metadata": {},
     "output_type": "display_data"
    }
   ],
   "source": [
    "plt.figure()\n",
    "plt.plot(accuracy)\n",
    "plt.xlabel('Iteration')\n",
    "plt.ylabel('Accuracy')\n",
    "plt.show()"
   ]
  }
 ],
 "metadata": {
  "kernelspec": {
   "display_name": "Python 2",
   "language": "python",
   "name": "python2"
  },
  "language_info": {
   "codemirror_mode": {
    "name": "ipython",
    "version": 2
   },
   "file_extension": ".py",
   "mimetype": "text/x-python",
   "name": "python",
   "nbconvert_exporter": "python",
   "pygments_lexer": "ipython2",
   "version": "2.7.11"
  }
 },
 "nbformat": 4,
 "nbformat_minor": 0
}
