{
 "cells": [
  {
   "cell_type": "code",
   "execution_count": 40,
   "metadata": {
    "collapsed": false
   },
   "outputs": [
    {
     "name": "stdout",
     "output_type": "stream",
     "text": [
      "Populating the interactive namespace from numpy and matplotlib\n"
     ]
    },
    {
     "name": "stderr",
     "output_type": "stream",
     "text": [
      "WARNING: pylab import has clobbered these variables: ['norm', 'sinh', 'trunc', 'tan', 'mat', 'gamma', 'cosh', 'radians', 'sin', 'fmod', 'expm1', 'ldexp', 'copy', 'exp', 'frexp', 'ceil', 'copysign', 'isnan', 'cos', 'degrees', 'pi', 'tanh', 'fabs', 'sqrt', 'floor', 'hypot', 'log', 'log10', 'e', 'log1p', 'modf', 'isinf']\n",
      "`%matplotlib` prevents importing * from pylab and numpy\n"
     ]
    }
   ],
   "source": [
    "import numpy as np\n",
    "from math import *\n",
    "import matplotlib.pyplot as plt\n",
    "from scipy.stats import t\n",
    "from bisect import bisect\n",
    "import scipy.io\n",
    "import copy\n",
    "from scipy.stats import norm\n",
    "import numpy.matlib\n",
    "%pylab inline\n",
    "%matplotlib inline"
   ]
  },
  {
   "cell_type": "code",
   "execution_count": 41,
   "metadata": {
    "collapsed": false
   },
   "outputs": [
    {
     "name": "stdout",
     "output_type": "stream",
     "text": [
      "(12007,)\n",
      "(12007, 784)\n",
      "<type 'numpy.ndarray'>\n",
      "<type 'numpy.ndarray'>\n",
      "(784,)\n"
     ]
    }
   ],
   "source": [
    "\"\"\"\n",
    "This notebook implements the Logistic Regression in the \n",
    "\"Cutting the Metropolis Hastings Budget\" framework. \n",
    "\n",
    "The target distribution is the posterior for a logistic regression\n",
    "model trained on MNIST dataset for classifying digits 7 vs 9. The \n",
    "dataset consisted of 12214 datapoints and we reduced the dimensionality\n",
    "using PCA. \n",
    "\"\"\"\n",
    "\n",
    "# get input data\n",
    "\n",
    "mat = scipy.io.loadmat('minist7vs1.mat')\n",
    "TrainLabel = mat['TrainLabel']\n",
    "TrainLabel = np.reshape(TrainLabel, TrainLabel.shape[1],1)\n",
    "TrainImg = mat['TrainImg']\n",
    "TestImg = mat['TestImg']\n",
    "TestLabel = mat['TestLabel']\n",
    "print TrainLabel.shape\n",
    "print TrainImg.shape\n",
    "print type(TrainLabel)\n",
    "print type(TrainImg)\n",
    "print TrainImg[0].shape\n",
    "TestLabel = np.reshape(TestLabel, TestLabel.shape[1],1)"
   ]
  },
  {
   "cell_type": "code",
   "execution_count": 42,
   "metadata": {
    "collapsed": false,
    "scrolled": false
   },
   "outputs": [],
   "source": [
    "\"\"\"\n",
    "Cutting the Metropolis Hastings Budget Method\n",
    "\"\"\"\n",
    "def random_walk_proposer(beta_t, sigmarw):\n",
    "    \"\"\"\n",
    "    Input: beta_t  : previous parameters, 1-D array\n",
    "           sigmarw : standard deviation, 1-D array\n",
    "    \"\"\"\n",
    "    res = (np.random.multivariate_normal(beta_t, np.diag(sigmarw))).reshape((len(beta_t),))\n",
    "    return res\n",
    "\n",
    "def ll_data(beta_t, beta_n, X, Y):\n",
    "    p_x_beta_t = 1/(1 + exp(-1* Y*np.dot(beta_t,X)))\n",
    "    p_x_beta_n = 1/(1 + exp(-1* Y*np.dot(beta_n,X)))\n",
    "    return log(p_x_beta_n) - log(p_x_beta_t)\n",
    "\n",
    "def eval_U0(N):\n",
    "    u = np.random.random()\n",
    "    return 1/N*log(u)\n",
    "\n",
    "def make_decision(l_list, N, U0):\n",
    "    n = float(len(l_list))\n",
    "    l_mean = sum(l_list)/n\n",
    "    l_sq = ((np.array(l_list))**2).tolist()\n",
    "    l_sq_mean = sum(l_sq)/n\n",
    "    sl = sqrt((l_sq_mean - l_mean*l_mean)*n/(n-1))\n",
    "    s = sl/sqrt(n) * sqrt(1 - (n-1)/(N-1))\n",
    "    t_stats = abs((l_mean - U0)/s)\n",
    "    delta = 1 - t.cdf(t_stats, n-1)\n",
    "    return delta\n",
    "    \n",
    "def generate_parameter(beta_t, N, sigmarw, X, Y, batchsize, epsilon ):\n",
    "    U0 = eval_U0(N)\n",
    "    # generate new parameter\n",
    "    P = len(X[0])\n",
    "    sigma = (np.matlib.repmat(sigmarw, P,1)).reshape(P,)\n",
    "    beta_n = random_walk_proposer(beta_t, sigma)\n",
    "    \n",
    "    # make decision\n",
    "    l_list = []\n",
    "    for i in range(batchsize):\n",
    "        mid = ll_data(beta_t, beta_n, X[i], Y[i])\n",
    "        l_list.append(mid)\n",
    "    \n",
    "    pos = batchsize\n",
    "    delta = make_decision(l_list, N, U0)\n",
    "    while (delta>epsilon) and (pos < N):\n",
    "        mid = ll_data(beta_t, beta_n, X[pos], Y[pos])\n",
    "        l_list.append(mid)\n",
    "        pos = pos + 1\n",
    "        delta = make_decision(l_list, N, U0)\n",
    "    \n",
    "    l_mean = sum(l_list)/float(len(l_list))\n",
    "    if l_mean > U0:\n",
    "        return (beta_n,1,pos)\n",
    "    else:\n",
    "        return (beta_t,0,pos)\n",
    "    \n",
    "def eval_cost(X,Y,beta):\n",
    "    N = len(Y)\n",
    "    cost = 0\n",
    "    for i in range(N):\n",
    "        # sigmoid = 1/(1 + exp(-1* Y[i]*np.dot(beta,X[i])))\n",
    "        sigmoid = -1.0 * np.log(1 + exp(-1 * Y[i] * np.dot(beta, X[i])))\n",
    "        # if sigmoid < 0.5 : \n",
    "        cost = cost + sigmoid\n",
    "    return cost/float(N)\n",
    "    \n",
    "def train(X, Y, sigmarw, batchsize, epsilon, niter):\n",
    "    N = len(Y) # number of total training data\n",
    "    P = len(X[0]) # parameter dimension\n",
    "    beta_t = np.ones(P)\n",
    "    cost_list = []\n",
    "    accept_pos = []\n",
    "    for i in range(niter):\n",
    "        index = np.random.permutation(N)\n",
    "        X = X[index]\n",
    "        Y = Y[index]\n",
    "        (beta_t, mid, pos) = generate_parameter(beta_t, N, sigmarw, X,Y,batchsize,epsilon)\n",
    "        # cost = eval_cost(X,Y,beta_t)\n",
    "        cost = eval_cost(TestImg, TestLabel, beta_t)\n",
    "        cost_list.append(cost)\n",
    "        accept_pos.append(pos)\n",
    "    return (cost_list, accept_pos)\n",
    "\n",
    "X = TrainImg\n",
    "Y = TrainLabel\n",
    "sigmarw = 0.01\n",
    "batchsize = 50\n",
    "epsilon = 0.02\n",
    "niter = 500\n",
    "(cost_list, accept_pos) = train(X, Y, sigmarw, batchsize, epsilon, niter)"
   ]
  },
  {
   "cell_type": "code",
   "execution_count": 43,
   "metadata": {
    "collapsed": false,
    "scrolled": true
   },
   "outputs": [
    {
     "data": {
      "image/png": "[encoded data removed]",
      "text/plain": [
       "<matplotlib.figure.Figure at 0x124922b90>"
      ]
     },
     "metadata": {},
     "output_type": "display_data"
    },
    {
     "name": "stdout",
     "output_type": "stream",
     "text": [
      "500\n",
      "[287, 188, 50, 50, 50, 50, 50, 50, 50, 10795, 50, 50, 50, 50, 50, 104, 50, 50, 50, 61, 50, 50, 50, 50, 50, 50, 50, 50, 50, 50, 76, 50, 50, 87, 61, 50, 50, 453, 3355, 50, 50, 50, 50, 50, 50, 210, 50, 50, 50, 50, 65, 50, 50, 50, 50, 50, 50, 50, 50, 674, 50, 90, 50, 50, 50, 52, 229, 50, 128, 53, 73, 50, 1453, 203, 50, 83, 50, 50, 50, 207, 50, 111, 50, 50, 50, 50, 50, 50, 50, 50, 50, 50, 218, 73, 50, 173, 50, 50, 70, 50, 50, 119, 50, 73, 50, 169, 50, 771, 50, 50, 50, 50, 50, 1496, 50, 50, 78, 50, 50, 50, 89, 160, 56, 1677, 50, 95, 156, 50, 50, 50, 50, 50, 50, 50, 50, 55, 113, 50, 67, 3725, 81, 50, 50, 60, 242, 50, 391, 367, 50, 50, 50, 71, 51, 187, 50, 50, 78, 223, 50, 50, 50, 71, 50, 50, 50, 50, 50, 94, 50, 50, 227, 50, 7838, 50, 1617, 375, 50, 50, 50, 51, 50, 125, 50, 50, 50, 50, 50, 50, 50, 58, 50, 50, 50, 50, 50, 50, 485, 50, 50, 482, 395, 50, 50, 50, 112, 50, 50, 127, 50, 50, 50, 5010, 50, 50, 138, 50, 60, 50, 50, 50, 51, 389, 50, 50, 56, 50, 50, 376, 51, 50, 174, 50, 50, 11584, 50, 50, 50, 50, 50, 50, 50, 50, 50, 50, 50, 309, 173, 50, 50, 99, 50, 125, 82, 61, 1135, 50, 54, 50, 50, 50, 74, 50, 50, 289, 50, 50, 50, 50, 50, 493, 50, 51, 232, 50, 50, 88, 54, 126, 50, 50, 50, 50, 50, 385, 50, 50, 50, 50, 50, 50, 50, 166, 50, 73, 50, 69, 50, 77, 50, 50, 101, 50, 50, 50, 50, 57, 50, 50, 92, 73, 50, 65, 50, 75, 50, 50, 50, 50, 50, 69, 161, 50, 50, 50, 141, 189, 279, 256, 50, 182, 50, 50, 50, 50, 50, 50, 50, 590, 119, 50, 71, 51, 50, 65, 325, 50, 118, 81, 50, 83, 50, 234, 50, 50, 9638, 66, 91, 104, 58, 487, 50, 773, 7431, 50, 133, 9871, 57, 79, 151, 50, 50, 52, 50, 518, 166, 50, 70, 267, 50, 123, 181, 106, 360, 1028, 58, 169, 214, 69, 2027, 52, 210, 756, 842, 217, 253, 1870, 66, 159, 499, 50, 817, 495, 50, 1087, 353, 50, 178, 340, 234, 50, 140, 50, 51, 191, 95, 124, 50, 557, 98, 388, 646, 585, 330, 484, 53, 195, 50, 228, 131, 52, 1388, 904, 50, 444, 5824, 300, 169, 1655, 179, 1170, 307, 263, 191, 208, 53, 217, 262, 249, 4853, 205, 9460, 652, 792, 449, 9553, 1879, 50, 120, 938, 5978, 373, 199, 289, 391, 412, 796, 566, 50, 346, 2355, 990, 359, 118, 1627, 940, 160, 865, 192, 2403, 462, 163, 252, 11559, 1596, 386, 52, 138, 9192, 94, 3390, 138, 352, 1663, 3265, 448, 183, 9940, 50, 416, 582]\n"
     ]
    }
   ],
   "source": [
    "plt.figure()\n",
    "plt.plot(cost_list)\n",
    "plt.xlabel('Iteration')\n",
    "plt.ylabel('Cost')\n",
    "plt.show()\n",
    "print len(cost_list)\n",
    "print accept_pos"
   ]
  },
  {
   "cell_type": "code",
   "execution_count": 44,
   "metadata": {
    "collapsed": false
   },
   "outputs": [
    {
     "name": "stdout",
     "output_type": "stream",
     "text": [
      "467.714\n"
     ]
    }
   ],
   "source": [
    "print sum(accept_pos)/float(len(accept_pos))"
   ]
  },
  {
   "cell_type": "code",
   "execution_count": 45,
   "metadata": {
    "collapsed": false
   },
   "outputs": [
    {
     "name": "stdout",
     "output_type": "stream",
     "text": [
      "500\n",
      "500\n"
     ]
    },
    {
     "data": {
      "image/png": "[encoded data removed]",
      "text/plain": [
       "<matplotlib.figure.Figure at 0x1247ab190>"
      ]
     },
     "metadata": {},
     "output_type": "display_data"
    }
   ],
   "source": [
    "cumulate_datasize = [accept_pos[0]]\n",
    "cumulate = accept_pos[0]\n",
    "for i in range(1,len(accept_pos)):\n",
    "    cumulate += accept_pos[i]\n",
    "    cumulate_datasize.append(cumulate)\n",
    "\n",
    "plt.figure()\n",
    "print len(cumulate_datasize)\n",
    "print len(cost_list)\n",
    "plt.plot(cumulate_datasize, cost_list) \n",
    "plt.xlabel('Cumulative Data Size')\n",
    "plt.ylabel('Likelihood Value')\n",
    "plt.show()"
   ]
  }
 ],
 "metadata": {
  "kernelspec": {
   "display_name": "Python 2",
   "language": "python",
   "name": "python2"
  },
  "language_info": {
   "codemirror_mode": {
    "name": "ipython",
    "version": 2
   },
   "file_extension": ".py",
   "mimetype": "text/x-python",
   "name": "python",
   "nbconvert_exporter": "python",
   "pygments_lexer": "ipython2",
   "version": "2.7.11"
  }
 },
 "nbformat": 4,
 "nbformat_minor": 0
}
