{
 "cells": [
  {
   "cell_type": "code",
   "execution_count": 3,
   "metadata": {
    "collapsed": false
   },
   "outputs": [
    {
     "name": "stdout",
     "output_type": "stream",
     "text": [
      "success\n"
     ]
    }
   ],
   "source": [
    "import numpy as np\n",
    "from math import *\n",
    "import matplotlib.pyplot as plt\n",
    "from scipy.stats import t\n",
    "from bisect import bisect\n",
    "import scipy.io\n",
    "import copy\n",
    "from scipy.stats import norm\n",
    "import numpy.matlib\n",
    "%matplotlib inline\n",
    "print 'success'"
   ]
  },
  {
   "cell_type": "code",
   "execution_count": 4,
   "metadata": {
    "collapsed": false
   },
   "outputs": [
    {
     "name": "stdout",
     "output_type": "stream",
     "text": [
      "(12007,)\n",
      "(12007, 784)\n",
      "(784,)\n"
     ]
    }
   ],
   "source": [
    "\"\"\"\n",
    "This notebook implements the Logistic Regression in the \n",
    "\"Cutting the Metropolis Hastings Budget\" framework. \n",
    "\n",
    "The target distribution is the posterior for a logistic regression\n",
    "model trained on MNIST dataset for classifying digits 7 vs 9. The \n",
    "dataset consisted of 12007 datapoints. \n",
    "\"\"\"\n",
    "\n",
    "# get input data\n",
    "mat = scipy.io.loadmat('minist7vs1.mat')\n",
    "TrainLabel = mat['TrainLabel']\n",
    "TrainLabel = np.reshape(TrainLabel, TrainLabel.shape[1],1)\n",
    "TrainImg = mat['TrainImg']\n",
    "TestImg = mat['TestImg']\n",
    "TestLabel = mat['TestLabel']\n",
    "print TrainLabel.shape\n",
    "print TrainImg.shape\n",
    "print TrainImg[0].shape\n",
    "TestLabel = np.reshape(TestLabel, TestLabel.shape[1],1)"
   ]
  },
  {
   "cell_type": "code",
   "execution_count": 5,
   "metadata": {
    "collapsed": false,
    "scrolled": false
   },
   "outputs": [
    {
     "name": "stdout",
     "output_type": "stream",
     "text": [
      "0\n",
      "100\n",
      "200\n",
      "300\n",
      "400\n",
      "500\n",
      "600\n",
      "700\n",
      "800\n",
      "900\n",
      "1498.27\n"
     ]
    }
   ],
   "source": [
    "\"\"\"\n",
    "Cutting the Metropolis Hastings Budget Method\n",
    "\"\"\"\n",
    "def random_walk_proposer(beta_t, sigmarw):\n",
    "    \"\"\"\n",
    "    Input: beta_t  : previous parameters, 1-D array\n",
    "           sigmarw : standard deviation, 1-D array\n",
    "    \"\"\"\n",
    "    res = (np.random.multivariate_normal(beta_t, np.diag(sigmarw))).reshape((len(beta_t),))\n",
    "    return res\n",
    "\n",
    "def ll_data(beta_t, beta_n, X, Y):\n",
    "    p_x_beta_t = 1/(1 + exp(-1* Y*np.dot(beta_t,X)))\n",
    "    p_x_beta_n = 1/(1 + exp(-1* Y*np.dot(beta_n,X)))\n",
    "    return log(p_x_beta_n) - log(p_x_beta_t)\n",
    "\n",
    "def eval_U0(N):\n",
    "    u = np.random.random()\n",
    "    return 1/N*log(u)\n",
    "\n",
    "def make_decision(l_list, N, U0):\n",
    "    n = float(len(l_list))\n",
    "    l_mean = sum(l_list)/n\n",
    "    l_sq = ((np.array(l_list))**2).tolist()\n",
    "    l_sq_mean = sum(l_sq)/n\n",
    "    sl = sqrt((l_sq_mean - l_mean*l_mean)*n/(n-1))\n",
    "    s = sl/sqrt(n) * sqrt(1 - (n-1)/(N-1))\n",
    "    t_stats = abs((l_mean - U0)/s)\n",
    "    delta = 1 - t.cdf(t_stats, n-1)\n",
    "    return delta\n",
    "    \n",
    "def generate_parameter(beta_t, N, sigmarw, X, Y, batchsize, epsilon ):\n",
    "    U0 = eval_U0(N)\n",
    "    # generate new parameter\n",
    "    P = len(X[0])\n",
    "    sigma = (np.matlib.repmat(sigmarw, P,1)).reshape(P,)\n",
    "    beta_n = random_walk_proposer(beta_t, sigma)\n",
    "    \n",
    "    # make decision\n",
    "    l_list = []\n",
    "    for i in range(batchsize):\n",
    "        mid = ll_data(beta_t, beta_n, X[i], Y[i])\n",
    "        l_list.append(mid)\n",
    "    \n",
    "    pos = batchsize\n",
    "    delta = make_decision(l_list, N, U0)\n",
    "    while (delta>epsilon) and (pos < N-1):\n",
    "        mid = ll_data(beta_t, beta_n, X[pos], Y[pos])\n",
    "        l_list.append(mid)\n",
    "        pos = pos + 1\n",
    "        delta = make_decision(l_list, N, U0)\n",
    "    \n",
    "    l_mean = sum(l_list)/float(len(l_list))\n",
    "    if l_mean > U0:\n",
    "        return (beta_n,1,pos)\n",
    "    else:\n",
    "        return (beta_t,0,pos)\n",
    "    \n",
    "def eval_cost(X,Y,beta):\n",
    "    N = len(Y)\n",
    "    sigmoid_accuracy = 1.0/(1.0 + np.exp(-1.0 * Y * np.dot(beta, X.T)))\n",
    "    accuracy = len((np.where(sigmoid_accuracy>0.5))[0])\n",
    "    sigmoid = -1.0 * np.log(1.0 + np.exp(-1.0 * Y * np.dot(beta, X.T)))\n",
    "    cost = np.sum(sigmoid)\n",
    "    \"\"\"\n",
    "    accuracy = 0\n",
    "    cost = 0\n",
    "    for i in range(N):\n",
    "        sigmoid_accuracy = 1/(1 + exp(-1* Y[i]*np.dot(beta,X[i])))\n",
    "        if sigmoid_accuracy > 0.5 :\n",
    "            accuracy = accuracy + 1\n",
    "        sigmoid = -1.0 * np.log(1 + exp(-1 * Y[i] * np.dot(beta, X[i])))\n",
    "        cost = cost + sigmoid\n",
    "    \"\"\"\n",
    "    return (cost/float(N), accuracy/float(N))\n",
    "    \n",
    "def train(X, Y, sigmarw, batchsize, epsilon, niter):\n",
    "    N = len(Y) # number of total training data\n",
    "    P = len(X[0]) # parameter dimension\n",
    "    beta_t = np.ones(P)\n",
    "    # beta_t = np.random.rand(P)\n",
    "    cost_list = []\n",
    "    accept_pos = []\n",
    "    accuracy_list = []\n",
    "    for i in range(niter):\n",
    "        if i % 100 == 0:\n",
    "            print i\n",
    "        index = np.random.permutation(N)\n",
    "        X = X[index]\n",
    "        Y = Y[index]\n",
    "        (beta_t, mid, pos) = generate_parameter(beta_t, N, sigmarw, X,Y,batchsize,epsilon)\n",
    "        (cost,accuracy) = eval_cost(TestImg, TestLabel, beta_t)\n",
    "        cost_list.append(cost)\n",
    "        accuracy_list.append(accuracy)\n",
    "        accept_pos.append(pos)\n",
    "    return (cost_list, accept_pos, accuracy_list)\n",
    "\n",
    "X = TrainImg\n",
    "Y = TrainLabel\n",
    "sigmarw = 0.01\n",
    "batchsize = 50\n",
    "epsilon = 0.02\n",
    "niter = 1000\n",
    "(cost_list_xl, accept_pos_xl, accuracy_xl) = train(X, Y, sigmarw, batchsize, epsilon, niter)\n",
    "print sum(accept_pos_xl)/float(len(accept_pos_xl))\n",
    "cumulate_datasize_xl = [accept_pos_xl[0]]\n",
    "cumulate_xl = accept_pos_xl[0]\n",
    "for i in range(1,len(accept_pos_xl)):\n",
    "    cumulate_xl += accept_pos_xl[i]\n",
    "    cumulate_datasize_xl.append(cumulate_xl)"
   ]
  },
  {
   "cell_type": "code",
   "execution_count": 13,
   "metadata": {
    "collapsed": true
   },
   "outputs": [],
   "source": [
    "# model class\n",
    "# assume binary classes, 1 or -1\n",
    "class Logistic:\n",
    "    def __init__(self, num_featurs, totN, proposer = None):\n",
    "        # init the feature vector\n",
    "        self.p = num_featurs\n",
    "        self.proposer = proposer\n",
    "        self.N = totN  # tot number of datas\n",
    "    \n",
    "    def ll(self, feature, X, Y):\n",
    "        # return the log likelihood\n",
    "        res = 0.0\n",
    "        [n, p] = X.shape\n",
    "        n1 = Y.shape[0]\n",
    "        assert p == self.p\n",
    "        assert n1 == n\n",
    "        for i in range(n):\n",
    "            res += np.log(1.0 + np.exp(-1.0 * Y[i] * np.sum(feature * X[i,:])))\n",
    "        res = res * (-1.0)\n",
    "        return res / n\n",
    "    \n",
    "    def delta(self, f_old, f_new, X, Y, t):\n",
    "        # t is the temperature\n",
    "        res = self.ll(f_new, X, Y) * self.N / t - self.ll(f_old, X, Y) * self.N / t\n",
    "        res += self.proposer.probGenerate(f_new, f_old, X, Y) # new -> old\n",
    "        res = res - self.proposer.probGenerate(f_old, f_new, X, Y)  # old -> new\n",
    "        return res\n",
    "    \n",
    "    def grad(self, feature, X, Y):\n",
    "        # compute the grad of the ll\n",
    "        [n, p] = X.shape\n",
    "        n1 = Y.shape[0]\n",
    "        res = np.zeros(self.p)\n",
    "        assert p == self.p\n",
    "        assert n1 == n\n",
    "        for i in range(n):\n",
    "            res += Y[i] * X[i,:] / (1 + np.exp(Y[i] * np.sum(feature * X[i,:])))\n",
    "        return res/ n\n",
    "    def predAcc(self, f, X, Y):\n",
    "        [n, p] = X.shape\n",
    "        n1 = Y.shape[0]\n",
    "        assert p == self.p\n",
    "        assert n1 == n\n",
    "        N_correct = 0\n",
    "        for i in range(n):\n",
    "            p = 1.0 / (1 + np.exp(-1.0 * np.sum(f * X[i,:])))\n",
    "            if p > 0.5 and Y[i] == 1.0:\n",
    "                N_correct += 1.0\n",
    "            elif p < 0.5 and Y[i] == -1.0:\n",
    "                N_correct += 1.0\n",
    "        return N_correct / n\n",
    "    def pred(self, f, X):\n",
    "        a = X.shape\n",
    "        if len(a) == 1:\n",
    "            p = 1.0 / (1 + np.exp(-1.0 * np.sum(f * X)))\n",
    "            if p > 0.5:\n",
    "                return 1.0\n",
    "            else:\n",
    "                return -1.0\n",
    "        else:\n",
    "            [n, p] = X.shape\n",
    "        res = np.zeros(n)\n",
    "        for i in range(n):\n",
    "            p = 1.0 / (1 + np.exp(-1.0 * np.sum(f * X[i,:])))\n",
    "            if p > 0.5:\n",
    "                res[i] = 1.0\n",
    "            else:\n",
    "                res[i] = -1.0\n",
    "        return res"
   ]
  },
  {
   "cell_type": "code",
   "execution_count": 7,
   "metadata": {
    "collapsed": true
   },
   "outputs": [],
   "source": [
    "def randomPropose(beta, sig):\n",
    "    p = len(beta)\n",
    "    res = np.zeros(p)\n",
    "    res = beta + np.random.normal(0,sig, p)\n",
    "    return res\n",
    "\n",
    "def randomData(miniBatchSize, im, label):\n",
    "    n = label.shape[0]\n",
    "    id = np.random.choice(n, miniBatchSize)\n",
    "    img = im[id,:]\n",
    "    idx = label[id]\n",
    "    return (img, idx)\n",
    "mat = scipy.io.loadmat('ecdf.mat')\n",
    "x_l = mat['x_l'][0]\n",
    "x_corr = mat['x_corr'][0]\n",
    "ecdf_l = mat['ecdf_l'][0]\n",
    "ecdf_corr = mat['ecdf_corr'][0]"
   ]
  },
  {
   "cell_type": "code",
   "execution_count": 8,
   "metadata": {
    "collapsed": true
   },
   "outputs": [],
   "source": [
    "class LangvanProposer:\n",
    "    def __init__(self, model):\n",
    "        self.m = model\n",
    "        self.step = 1.0\n",
    "    def setStepSize(self, s):\n",
    "        self.step = s\n",
    "        \n",
    "    def update(self, beta, X, Y):\n",
    "        beta1 = beta + self.step / 2.0 * self.m.grad(beta, X, Y)\n",
    "        # add the noise\n",
    "        p = len(beta1)\n",
    "        beta1 = beta1 + np.random.normal(0, self.step**0.5, p)\n",
    "        return beta1\n",
    "    \n",
    "    def probGenerate(self, beta_old, beta_new, X, Y):\n",
    "        # beta_old -> beta_new\n",
    "        beta_tmp = beta_old + self.step / 2.0 * self.m.grad(beta_old, X, Y)\n",
    "        # find the diff\n",
    "        diff = beta_tmp - beta_new\n",
    "        res = -1.0 * np.sum(diff**2.0) / 2.0 / self.step\n",
    "        return res\n",
    "        \n",
    "class RandomWalkProposer:\n",
    "    def update(self, beta, sig):\n",
    "        p = len(beta)\n",
    "        res = np.zeros(p)\n",
    "        res = beta + np.random.normal(0,sig, p)\n",
    "        return res\n",
    "    def probGenerate(self, beta_old, beta_new, X, Y):\n",
    "        return 1.0\n",
    "\n",
    "class NoiseGradDescentProposer:\n",
    "    def __init__(self, model, sd):\n",
    "        self.m = model\n",
    "        self.sd = sd\n",
    "        self.step = 1.0\n",
    "    def setStepSize(self, s):\n",
    "        self.step = s\n",
    "        \n",
    "    def update(self, beta, X, Y):\n",
    "        beta1 = beta + self.step / 2.0 * self.m.grad(beta, X, Y)\n",
    "        # add the noise\n",
    "        p = len(beta1)\n",
    "        beta1 = beta1 + np.random.normal(0, self.sd, p)\n",
    "        return beta1\n",
    "    \n",
    "    def probGenerate(self, beta_old, beta_new, X, Y):\n",
    "        # beta_old -> beta_new\n",
    "        beta_tmp = beta_old + self.step / 2.0 * self.m.grad(beta_old, X, Y)\n",
    "        # find the diff\n",
    "        diff = beta_tmp - beta_new\n",
    "        res = -1.0 * np.sum(diff**2.0) / 2.0 / self.sd**2\n",
    "        return res"
   ]
  },
  {
   "cell_type": "code",
   "execution_count": 29,
   "metadata": {
    "collapsed": false
   },
   "outputs": [
    {
     "name": "stdout",
     "output_type": "stream",
     "text": [
      "(12007, 784) (12007,)\n"
     ]
    }
   ],
   "source": [
    "print TrainImg.shape, TrainLabel.shape"
   ]
  },
  {
   "cell_type": "code",
   "execution_count": 49,
   "metadata": {
    "collapsed": false
   },
   "outputs": [
    {
     "name": "stdout",
     "output_type": "stream",
     "text": [
      "0\n",
      "500\n",
      "1000\n",
      "1500\n",
      "2000\n",
      "2500\n",
      "3000\n",
      "3500\n",
      "4000\n",
      "4500\n",
      "5000\n",
      "5500\n",
      "6000\n",
      "6500\n",
      "7000\n",
      "7500\n"
     ]
    }
   ],
   "source": [
    "# try the mini_batch\n",
    "N = 8000\n",
    "p = 784\n",
    "# beta = np.random.rand(p)\n",
    "beta = np.ones(p)\n",
    "rd = RandomWalkProposer()\n",
    "sig0 = 0.1\n",
    "logm = Logistic(p, 12007, rd)\n",
    "sd_est = 0\n",
    "sd_array = np.zeros(N)\n",
    "miniBatchSize = 50\n",
    "num_sd = 10\n",
    "ll = []\n",
    "acc = []\n",
    "ll_full = np.zeros(N)\n",
    "acc_full = np.zeros(N)\n",
    "T0 = 10.0\n",
    "\n",
    "for i in range(N):\n",
    "    sd_vect = np.zeros(num_sd)\n",
    "    T = T0 / (i + 1.0) ** 0.5\n",
    "    # sig = sig0 / (i + 1.0)**0.5\n",
    "    sig = sig0\n",
    "    for j in range(num_sd):\n",
    "        data = randomData(miniBatchSize, TrainImg, TrainLabel)\n",
    "        beta1 = rd.update(beta, sig)\n",
    "        sd_vect[j] = logm.delta(beta, beta1, data[0], data[1], T)\n",
    "    sd_est = sd_est *0.7 + np.std(sd_vect) *0.3\n",
    "    u = np.random.random()\n",
    "    sd_array[i] = sd_est\n",
    "    # X_log = ecdf_l[bisect(x_l, u)]\n",
    "    x_c = x_corr[bisect(ecdf_corr, u)]\n",
    "    x_c = x_c *sd_est\n",
    "    beta1 = rd.update(beta, sig)\n",
    "    data = randomData(miniBatchSize, TrainImg, TrainLabel)\n",
    "    delta = logm.delta(beta, beta1, data[0], data[1], T)\n",
    "    if i % 500 == 0:\n",
    "        print i\n",
    "    if (delta + x_c > 0):\n",
    "        beta = beta1\n",
    "    # data = randomData(200, TestImg, TestLabel)\n",
    "    # ll.append(logm.ll(beta, data[0], data[1]))\n",
    "    # acc.append(logm.predAcc(beta, data[0], data[1]))\n",
    "    ll_full[i] = logm.ll(beta, TestImg[0:1000,:], TestLabel[0:1000])\n",
    "    acc_full[i] = logm.predAcc(beta, TestImg[0:1000,:], TestLabel[0:1000])"
   ]
  },
  {
   "cell_type": "code",
   "execution_count": 48,
   "metadata": {
    "collapsed": false
   },
   "outputs": [
    {
     "data": {
      "image/png": "[encoded data removed]",
      "text/plain": [
       "<matplotlib.figure.Figure at 0x7f3262476b10>"
      ]
     },
     "metadata": {},
     "output_type": "display_data"
    },
    {
     "data": {
      "image/png": "[encoded data removed]",
      "text/plain": [
       "<matplotlib.figure.Figure at 0x7f326247f150>"
      ]
     },
     "metadata": {},
     "output_type": "display_data"
    }
   ],
   "source": [
    "plt.figure()\n",
    "#plt.plot(cumulate_datasize_xl,cost_list_xl,'r')\n",
    "#plt.hold(True)\n",
    "x_ax = np.ones(N) * miniBatchSize\n",
    "x_ax = np.cumsum(x_ax)\n",
    "plt.plot(x_ax, ll_full, 'b')\n",
    "plt.plot(x_ax[0:4000], ll_full_nonT[0:4000], 'y')\n",
    "plt.xlabel('Cumulative Data Size')\n",
    "plt.ylabel('Likelihood Value')\n",
    "plt.axis([-1,100000,-25,1])\n",
    "\n",
    "plt.savefig('ll_hyc.png')\n",
    "plt.show()\n",
    "\n",
    "\n",
    "# plot the accuracy with respect to the cumulative data size\n",
    "plt.figure()\n",
    "#plt.plot(cumulate_datasize_xl, accuracy_xl, 'r')\n",
    "#plt.hold(True)\n",
    "plt.plot(x_ax, acc_full, 'b')\n",
    "plt.plot(x_ax[0:4000], acc_full_nonT[0:4000], 'y')\n",
    "plt.xlabel('Cumulative Data Size')\n",
    "plt.ylabel('Accuracy')\n",
    "plt.axis([0, 100000 ,0.4, 1])\n",
    "\n",
    "plt.savefig('acc_hyc.png')\n",
    "plt.show()"
   ]
  },
  {
   "cell_type": "code",
   "execution_count": 18,
   "metadata": {
    "collapsed": false
   },
   "outputs": [
    {
     "name": "stdout",
     "output_type": "stream",
     "text": [
      "0\n",
      "500\n",
      "1000\n",
      "1500\n",
      "2000\n",
      "2500\n",
      "3000\n",
      "3500\n",
      "4000\n",
      "4500\n",
      "5000\n",
      "5500\n",
      "6000\n",
      "6500\n",
      "7000\n",
      "7500\n"
     ]
    }
   ],
   "source": [
    "# non-temperature case:\n",
    "# try the mini_batch\n",
    "N = 8000\n",
    "p = 784\n",
    "# beta = np.random.rand(p)\n",
    "beta = np.ones(p)\n",
    "rd = RandomWalkProposer()\n",
    "sig0 = 0.1\n",
    "logm = Logistic(p, 12007, rd)\n",
    "sd_est = 0\n",
    "sd_array = np.zeros(N)\n",
    "miniBatchSize = 50\n",
    "num_sd = 10\n",
    "#ll = []\n",
    "#acc = []\n",
    "ll_full_nonT = np.zeros(N)\n",
    "acc_full_nonT = np.zeros(N)\n",
    "T0 = 10.0\n",
    "for i in range(N):\n",
    "    sd_vect = np.zeros(num_sd)\n",
    "    T = 1.0\n",
    "    # sig = sig0 / (i + 1.0)**0.5\n",
    "    sig = sig0\n",
    "    for j in range(num_sd):\n",
    "        data = randomData(miniBatchSize, TrainImg, TrainLabel)\n",
    "        beta1 = rd.update(beta, sig)\n",
    "        sd_vect[j] = logm.delta(beta, beta1, data[0], data[1], T)\n",
    "    sd_est = sd_est *0.7 + np.std(sd_vect) *0.3\n",
    "    u = np.random.random()\n",
    "    sd_array[i] = sd_est\n",
    "    # X_log = ecdf_l[bisect(x_l, u)]\n",
    "    x_c = x_corr[bisect(ecdf_corr, u)]\n",
    "    x_c = x_c *sd_est\n",
    "    beta1 = rd.update(beta, sig)\n",
    "    data = randomData(miniBatchSize, TrainImg, TrainLabel)\n",
    "    delta = logm.delta(beta, beta1, data[0], data[1], T)\n",
    "    if i % 500 == 0:\n",
    "        print i\n",
    "    if (delta + x_c > 0):\n",
    "        beta = beta1\n",
    "    # data = randomData(200, TestImg, TestLabel)\n",
    "    # ll.append(logm.ll(beta, data[0], data[1]))\n",
    "    # acc.append(logm.predAcc(beta, data[0], data[1]))\n",
    "    ll_full_nonT[i] = logm.ll(beta, TestImg[0:1000,:], TestLabel[0:1000])\n",
    "    acc_full_nonT[i] = logm.predAcc(beta, TestImg[0:1000,:], TestLabel[0:1000])"
   ]
  },
  {
   "cell_type": "code",
   "execution_count": 61,
   "metadata": {
    "collapsed": false,
    "scrolled": true
   },
   "outputs": [
    {
     "data": {
      "image/png": "[encoded data removed]",
      "text/plain": [
       "<matplotlib.figure.Figure at 0x7f32627cbe90>"
      ]
     },
     "metadata": {},
     "output_type": "display_data"
    },
    {
     "data": {
      "image/png": "[encoded data removed]",
      "text/plain": [
       "<matplotlib.figure.Figure at 0x7f3262629450>"
      ]
     },
     "metadata": {},
     "output_type": "display_data"
    }
   ],
   "source": [
    "\"\"\"\n",
    "compare the result\n",
    "\"\"\"\n",
    "# plot the likelihood with respect to the cumulative data size\n",
    "plt.figure()\n",
    "line_up, = plt.plot(cumulate_datasize_xl,cost_list_xl,'r')\n",
    "plt.hold(True)\n",
    "x_ax = np.ones(N) * miniBatchSize\n",
    "x_ax = np.cumsum(x_ax)\n",
    "line_mid, = plt.plot(x_ax, ll_full, 'b')\n",
    "line_down, = plt.plot(x_ax, ll_full_nonT, 'y')\n",
    "plt.xlabel('Cumulative Data Size')\n",
    "plt.ylabel('Likelihood Value')\n",
    "plt.axis([-1,200000,-25,1])\n",
    "\n",
    "plt.legend([line_up, line_mid, line_down], ['adaptive MH', 'minibatch MH with T', 'minibatch MH without T'],  loc='lower right')\n",
    "\n",
    "plt.savefig('ll_hyc.png')\n",
    "plt.show()\n",
    "\n",
    "\n",
    "# plot the accuracy with respect to the cumulative data size\n",
    "plt.figure()\n",
    "line_up , = plt.plot(cumulate_datasize_xl, accuracy_xl, 'r')\n",
    "plt.hold(True)\n",
    "line_mid, = plt.plot(x_ax, acc_full, 'b')\n",
    "line_down, = plt.plot(x_ax, acc_full_nonT, 'y')\n",
    "plt.xlabel('Cumulative Data Size')\n",
    "plt.ylabel('Accuracy')\n",
    "plt.axis([0, 200000 ,0.4, 1])\n",
    "\n",
    "plt.legend([line_up, line_mid ,line_down],  ['adaptive MH', 'minibatch MH with T', 'minibatch MH without T'],  loc='lower right')\n",
    "\n",
    "plt.savefig('acc_hyc.png')\n",
    "plt.show()"
   ]
  },
  {
   "cell_type": "code",
   "execution_count": null,
   "metadata": {
    "collapsed": true
   },
   "outputs": [],
   "source": []
  },
  {
   "cell_type": "code",
   "execution_count": 63,
   "metadata": {
    "collapsed": false
   },
   "outputs": [],
   "source": [
    "scipy.io.savemat('xl0_ones_hyc_final.mat',{'cumulate_datasize_xl':cumulate_datasize_xl, 'cost_list_xl':cost_list_xl, 'accuracy_xl':accuracy_xl})\n",
    "scipy.io.savemat('hy0_ones_hyc_final.mat',{'x_ax':x_ax, 'll_full':ll_full, 'll_full_nonT':ll_full_nonT, 'acc_full':acc_full, 'acc_full_nonT':acc_full_nonT})"
   ]
  },
  {
   "cell_type": "code",
   "execution_count": null,
   "metadata": {
    "collapsed": true
   },
   "outputs": [],
   "source": []
  }
 ],
 "metadata": {
  "kernelspec": {
   "display_name": "Python 2",
   "language": "python",
   "name": "python2"
  },
  "language_info": {
   "codemirror_mode": {
    "name": "ipython",
    "version": 2
   },
   "file_extension": ".py",
   "mimetype": "text/x-python",
   "name": "python",
   "nbconvert_exporter": "python",
   "pygments_lexer": "ipython2",
   "version": "2.7.6"
  }
 },
 "nbformat": 4,
 "nbformat_minor": 0
}
