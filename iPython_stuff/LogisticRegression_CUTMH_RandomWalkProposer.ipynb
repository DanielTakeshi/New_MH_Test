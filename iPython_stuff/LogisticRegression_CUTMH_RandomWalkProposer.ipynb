{
 "cells": [
  {
   "cell_type": "code",
   "execution_count": 1,
   "metadata": {
    "collapsed": false
   },
   "outputs": [
    {
     "name": "stdout",
     "output_type": "stream",
     "text": [
      "success\n"
     ]
    }
   ],
   "source": [
    "import numpy as np\n",
    "from math import *\n",
    "import matplotlib.pyplot as plt\n",
    "from scipy.stats import t\n",
    "from bisect import bisect\n",
    "import scipy.io\n",
    "import copy\n",
    "from scipy.stats import norm\n",
    "import numpy.matlib\n",
    "%matplotlib inline\n",
    "print 'success'"
   ]
  },
  {
   "cell_type": "code",
   "execution_count": 9,
   "metadata": {
    "collapsed": false
   },
   "outputs": [
    {
     "name": "stdout",
     "output_type": "stream",
     "text": [
      "(12007,)\n",
      "(12007, 784)\n",
      "(784,)\n"
     ]
    }
   ],
   "source": [
    "\"\"\"\n",
    "This notebook implements the Logistic Regression in the \n",
    "\"Cutting the Metropolis Hastings Budget\" framework. \n",
    "\n",
    "The target distribution is the posterior for a logistic regression\n",
    "model trained on MNIST dataset for classifying digits 7 vs 9. The \n",
    "dataset consisted of 12007 datapoints. \n",
    "\"\"\"\n",
    "\n",
    "# get input data\n",
    "mat = scipy.io.loadmat('minist7vs1.mat')\n",
    "TrainLabel = mat['TrainLabel']\n",
    "TrainLabel = np.reshape(TrainLabel, TrainLabel.shape[1],1)\n",
    "TrainImg = mat['TrainImg']\n",
    "TestImg = mat['TestImg']\n",
    "TestLabel = mat['TestLabel']\n",
    "print TrainLabel.shape\n",
    "print TrainImg.shape\n",
    "print TrainImg[0].shape\n",
    "TestLabel = np.reshape(TestLabel, TestLabel.shape[1],1)"
   ]
  },
  {
   "cell_type": "code",
   "execution_count": 5,
   "metadata": {
    "collapsed": false,
    "scrolled": false
   },
   "outputs": [
    {
     "name": "stdout",
     "output_type": "stream",
     "text": [
      "0\n",
      "100\n",
      "200\n",
      "300\n",
      "400\n",
      "500\n",
      "600\n",
      "700\n",
      "800\n",
      "900\n",
      "1498.27\n"
     ]
    }
   ],
   "source": [
    "\"\"\"\n",
    "Cutting the Metropolis Hastings Budget Method\n",
    "\"\"\"\n",
    "def random_walk_proposer(beta_t, sigmarw):\n",
    "    \"\"\"\n",
    "    Input: beta_t  : previous parameters, 1-D array\n",
    "           sigmarw : standard deviation, 1-D array\n",
    "    \"\"\"\n",
    "    res = (np.random.multivariate_normal(beta_t, np.diag(sigmarw))).reshape((len(beta_t),))\n",
    "    return res\n",
    "\n",
    "def ll_data(beta_t, beta_n, X, Y):\n",
    "    p_x_beta_t = 1/(1 + exp(-1* Y*np.dot(beta_t,X)))\n",
    "    p_x_beta_n = 1/(1 + exp(-1* Y*np.dot(beta_n,X)))\n",
    "    return log(p_x_beta_n) - log(p_x_beta_t)\n",
    "\n",
    "def eval_U0(N):\n",
    "    u = np.random.random()\n",
    "    return 1/N*log(u)\n",
    "\n",
    "def make_decision(l_list, N, U0):\n",
    "    n = float(len(l_list))\n",
    "    l_mean = sum(l_list)/n\n",
    "    l_sq = ((np.array(l_list))**2).tolist()\n",
    "    l_sq_mean = sum(l_sq)/n\n",
    "    sl = sqrt((l_sq_mean - l_mean*l_mean)*n/(n-1))\n",
    "    s = sl/sqrt(n) * sqrt(1 - (n-1)/(N-1))\n",
    "    t_stats = abs((l_mean - U0)/s)\n",
    "    delta = 1 - t.cdf(t_stats, n-1)\n",
    "    return delta\n",
    "    \n",
    "def generate_parameter(beta_t, N, sigmarw, X, Y, batchsize, epsilon ):\n",
    "    U0 = eval_U0(N)\n",
    "    # generate new parameter\n",
    "    P = len(X[0])\n",
    "    sigma = (np.matlib.repmat(sigmarw, P,1)).reshape(P,)\n",
    "    beta_n = random_walk_proposer(beta_t, sigma)\n",
    "    \n",
    "    # make decision\n",
    "    l_list = []\n",
    "    for i in range(batchsize):\n",
    "        mid = ll_data(beta_t, beta_n, X[i], Y[i])\n",
    "        l_list.append(mid)\n",
    "    \n",
    "    pos = batchsize\n",
    "    delta = make_decision(l_list, N, U0)\n",
    "    while (delta>epsilon) and (pos < N-1):\n",
    "        mid = ll_data(beta_t, beta_n, X[pos], Y[pos])\n",
    "        l_list.append(mid)\n",
    "        pos = pos + 1\n",
    "        delta = make_decision(l_list, N, U0)\n",
    "    \n",
    "    l_mean = sum(l_list)/float(len(l_list))\n",
    "    if l_mean > U0:\n",
    "        return (beta_n,1,pos)\n",
    "    else:\n",
    "        return (beta_t,0,pos)\n",
    "    \n",
    "def eval_cost(X,Y,beta):\n",
    "    N = len(Y)\n",
    "    sigmoid_accuracy = 1.0/(1.0 + np.exp(-1.0 * Y * np.dot(beta, X.T)))\n",
    "    accuracy = len((np.where(sigmoid_accuracy>0.5))[0])\n",
    "    sigmoid = -1.0 * np.log(1.0 + np.exp(-1.0 * Y * np.dot(beta, X.T)))\n",
    "    cost = np.sum(sigmoid)\n",
    "    \"\"\"\n",
    "    accuracy = 0\n",
    "    cost = 0\n",
    "    for i in range(N):\n",
    "        sigmoid_accuracy = 1/(1 + exp(-1* Y[i]*np.dot(beta,X[i])))\n",
    "        if sigmoid_accuracy > 0.5 :\n",
    "            accuracy = accuracy + 1\n",
    "        sigmoid = -1.0 * np.log(1 + exp(-1 * Y[i] * np.dot(beta, X[i])))\n",
    "        cost = cost + sigmoid\n",
    "    \"\"\"\n",
    "    return (cost/float(N), accuracy/float(N))\n",
    "    \n",
    "def train(X, Y, sigmarw, batchsize, epsilon, niter):\n",
    "    N = len(Y) # number of total training data\n",
    "    P = len(X[0]) # parameter dimension\n",
    "    beta_t = np.ones(P)\n",
    "    # beta_t = np.random.rand(P)\n",
    "    cost_list = []\n",
    "    accept_pos = []\n",
    "    accuracy_list = []\n",
    "    for i in range(niter):\n",
    "        if i % 100 == 0:\n",
    "            print i\n",
    "        index = np.random.permutation(N)\n",
    "        X = X[index]\n",
    "        Y = Y[index]\n",
    "        (beta_t, mid, pos) = generate_parameter(beta_t, N, sigmarw, X,Y,batchsize,epsilon)\n",
    "        (cost,accuracy) = eval_cost(TestImg, TestLabel, beta_t)\n",
    "        cost_list.append(cost)\n",
    "        accuracy_list.append(accuracy)\n",
    "        accept_pos.append(pos)\n",
    "    return (cost_list, accept_pos, accuracy_list)\n",
    "\n",
    "X = TrainImg\n",
    "Y = TrainLabel\n",
    "sigmarw = 0.01\n",
    "batchsize = 50\n",
    "epsilon = 0.02\n",
    "niter = 1000\n",
    "(cost_list_xl, accept_pos_xl, accuracy_xl) = train(X, Y, sigmarw, batchsize, epsilon, niter)\n",
    "print sum(accept_pos_xl)/float(len(accept_pos_xl))\n",
    "cumulate_datasize_xl = [accept_pos_xl[0]]\n",
    "cumulate_xl = accept_pos_xl[0]\n",
    "for i in range(1,len(accept_pos_xl)):\n",
    "    cumulate_xl += accept_pos_xl[i]\n",
    "    cumulate_datasize_xl.append(cumulate_xl)"
   ]
  },
  {
   "cell_type": "code",
   "execution_count": 4,
   "metadata": {
    "collapsed": true
   },
   "outputs": [],
   "source": [
    "# model class\n",
    "# assume binary classes, 1 or -1\n",
    "class Logistic:\n",
    "    def __init__(self, num_featurs, totN, proposer = None):\n",
    "        # init the feature vector\n",
    "        self.p = num_featurs\n",
    "        self.proposer = proposer\n",
    "        self.N = totN  # tot number of datas\n",
    "    \n",
    "    def ll(self, feature, X, Y):\n",
    "        # return the log likelihood\n",
    "        res = 0.0\n",
    "        [n, p] = X.shape\n",
    "        n1 = Y.shape[0]\n",
    "        assert p == self.p\n",
    "        assert n1 == n\n",
    "        for i in range(n):\n",
    "            res += np.log(1.0 + np.exp(-1.0 * Y[i] * np.sum(feature * X[i,:])))\n",
    "        res = res * (-1.0)\n",
    "        return res / n\n",
    "    \n",
    "    def delta(self, f_old, f_new, X, Y, t):\n",
    "        # t is the temperature\n",
    "        res = self.ll(f_new, X, Y) * self.N / t - self.ll(f_old, X, Y) * self.N / t\n",
    "        res += self.proposer.probGenerate(f_new, f_old, X, Y) # new -> old\n",
    "        res = res - self.proposer.probGenerate(f_old, f_new, X, Y)  # old -> new\n",
    "        return res\n",
    "    \n",
    "    def grad(self, feature, X, Y):\n",
    "        # compute the grad of the ll\n",
    "        [n, p] = X.shape\n",
    "        n1 = Y.shape[0]\n",
    "        res = np.zeros(self.p)\n",
    "        assert p == self.p\n",
    "        assert n1 == n\n",
    "        for i in range(n):\n",
    "            res += Y[i] * X[i,:] / (1 + np.exp(Y[i] * np.sum(feature * X[i,:])))\n",
    "        return res/ n\n",
    "    def predAcc(self, f, X, Y):\n",
    "        [n, p] = X.shape\n",
    "        n1 = Y.shape[0]\n",
    "        assert p == self.p\n",
    "        assert n1 == n\n",
    "        N_correct = 0\n",
    "        for i in range(n):\n",
    "            p = 1.0 / (1 + np.exp(-1.0 * np.sum(f * X[i,:])))\n",
    "            if p > 0.5 and Y[i] == 1.0:\n",
    "                N_correct += 1.0\n",
    "            elif p < 0.5 and Y[i] == -1.0:\n",
    "                N_correct += 1.0\n",
    "        return N_correct / n\n",
    "    def pred(self, f, X):\n",
    "        a = X.shape\n",
    "        if len(a) == 1:\n",
    "            p = 1.0 / (1 + np.exp(-1.0 * np.sum(f * X)))\n",
    "            if p > 0.5:\n",
    "                return 1.0\n",
    "            else:\n",
    "                return -1.0\n",
    "        else:\n",
    "            [n, p] = X.shape\n",
    "        res = np.zeros(n)\n",
    "        for i in range(n):\n",
    "            p = 1.0 / (1 + np.exp(-1.0 * np.sum(f * X[i,:])))\n",
    "            if p > 0.5:\n",
    "                res[i] = 1.0\n",
    "            else:\n",
    "                res[i] = -1.0\n",
    "        return res"
   ]
  },
  {
   "cell_type": "code",
   "execution_count": 5,
   "metadata": {
    "collapsed": false
   },
   "outputs": [],
   "source": [
    "def randomPropose(beta, sig):\n",
    "    p = len(beta)\n",
    "    res = np.zeros(p)\n",
    "    res = beta + np.random.normal(0,sig, p)\n",
    "    return res\n",
    "\n",
    "def randomData(miniBatchSize, im, label):\n",
    "    n = label.shape[0]\n",
    "    id = np.random.choice(n, miniBatchSize)\n",
    "    img = im[id,:]\n",
    "    idx = label[id]\n",
    "    return (img, idx)\n",
    "# this function will return a xcorr val \n",
    "def getRandXcorr(ecdf, sdvect, estimatedSd):\n",
    "    index = bisect(sdvect, estimatedSd) + 1\n",
    "    x = ecdf[0,:]\n",
    "    f = ecdf[index, :]\n",
    "    u = np.random.random()\n",
    "    return x[bisect(f, u)]\n",
    "mat = scipy.io.loadmat('../generateXcorr/XcorrCurves.mat')\n",
    "ecdfmat = mat['res']\n",
    "sd_vect = mat['sdval']\n"
   ]
  },
  {
   "cell_type": "code",
   "execution_count": 6,
   "metadata": {
    "collapsed": false
   },
   "outputs": [
    {
     "name": "stdout",
     "output_type": "stream",
     "text": [
      "0.005\n",
      "1.00012470515\n"
     ]
    },
    {
     "data": {
      "text/plain": [
       "[<matplotlib.lines.Line2D at 0x7f682e1d5a90>]"
      ]
     },
     "execution_count": 6,
     "metadata": {},
     "output_type": "execute_result"
    },
    {
     "data": {
      "image/png": "[encoded data removed]",
      "text/plain": [
       "<matplotlib.figure.Figure at 0x7f682e18f490>"
      ]
     },
     "metadata": {},
     "output_type": "display_data"
    }
   ],
   "source": [
    "tmp = scipy.io.loadmat('../generateXcorr/x_corr_plot.mat')\n",
    "tmpRes = tmp['res']\n",
    "plt.plot(tmpRes[0,:], tmpRes[-17,:])\n",
    "delta_x = tmpRes[0,1]-tmpRes[0,0]\n",
    "print delta_x\n",
    "t = np.sum(tmpRes[-1,:]*delta_x)\n",
    "print t\n",
    "plt.plot(tmpRes[0,:], tmpRes[-1,:]/t)"
   ]
  },
  {
   "cell_type": "code",
   "execution_count": 5,
   "metadata": {
    "collapsed": false
   },
   "outputs": [
    {
     "data": {
      "image/png": "[encoded data removed]",
      "text/plain": [
       "<matplotlib.figure.Figure at 0x7f15560b86d0>"
      ]
     },
     "metadata": {},
     "output_type": "display_data"
    },
    {
     "data": {
      "text/plain": [
       "[<matplotlib.lines.Line2D at 0x7f1555bf1850>]"
      ]
     },
     "execution_count": 5,
     "metadata": {},
     "output_type": "execute_result"
    },
    {
     "data": {
      "image/png": "[encoded data removed]",
      "text/plain": [
       "<matplotlib.figure.Figure at 0x7f15560b8790>"
      ]
     },
     "metadata": {},
     "output_type": "display_data"
    }
   ],
   "source": [
    "xcorr = np.zeros(1000)\n",
    "for i in range(1000):\n",
    "    xcorr[i] = getRandXcorr(ecdfmat, sd_vect, 1.1)\n",
    "plt.hist(xcorr)\n",
    "plt.show()\n",
    "plt.plot(ecdfmat[0,:], ecdfmat[-3,:])"
   ]
  },
  {
   "cell_type": "code",
   "execution_count": 7,
   "metadata": {
    "collapsed": true
   },
   "outputs": [],
   "source": [
    "class LangvanProposer:\n",
    "    def __init__(self, model):\n",
    "        self.m = model\n",
    "        self.step = 1.0\n",
    "    def setStepSize(self, s):\n",
    "        self.step = s\n",
    "        \n",
    "    def update(self, beta, X, Y):\n",
    "        beta1 = beta + self.step / 2.0 * self.m.grad(beta, X, Y)\n",
    "        # add the noise\n",
    "        p = len(beta1)\n",
    "        beta1 = beta1 + np.random.normal(0, self.step**0.5, p)\n",
    "        return beta1\n",
    "    \n",
    "    def probGenerate(self, beta_old, beta_new, X, Y):\n",
    "        # beta_old -> beta_new\n",
    "        beta_tmp = beta_old + self.step / 2.0 * self.m.grad(beta_old, X, Y)\n",
    "        # find the diff\n",
    "        diff = beta_tmp - beta_new\n",
    "        res = -1.0 * np.sum(diff**2.0) / 2.0 / self.step\n",
    "        return res\n",
    "        \n",
    "class RandomWalkProposer:\n",
    "    def update(self, beta, sig):\n",
    "        p = len(beta)\n",
    "        res = np.zeros(p)\n",
    "        res = beta + np.random.normal(0,sig, p)\n",
    "        return res\n",
    "    def probGenerate(self, beta_old, beta_new, X, Y):\n",
    "        return 1.0\n",
    "\n",
    "class NoiseGradDescentProposer:\n",
    "    def __init__(self, model, sd):\n",
    "        self.m = model\n",
    "        self.sd = sd\n",
    "        self.step = 1.0\n",
    "    def setStepSize(self, s):\n",
    "        self.step = s\n",
    "        \n",
    "    def update(self, beta, X, Y):\n",
    "        beta1 = beta + self.step / 2.0 * self.m.grad(beta, X, Y)\n",
    "        # add the noise\n",
    "        p = len(beta1)\n",
    "        beta1 = beta1 + np.random.normal(0, self.sd, p)\n",
    "        return beta1\n",
    "    \n",
    "    def probGenerate(self, beta_old, beta_new, X, Y):\n",
    "        # beta_old -> beta_new\n",
    "        beta_tmp = beta_old + self.step / 2.0 * self.m.grad(beta_old, X, Y)\n",
    "        # find the diff\n",
    "        diff = beta_tmp - beta_new\n",
    "        res = -1.0 * np.sum(diff**2.0) / 2.0 / self.sd**2\n",
    "        return res"
   ]
  },
  {
   "cell_type": "code",
   "execution_count": 10,
   "metadata": {
    "collapsed": false
   },
   "outputs": [
    {
     "name": "stdout",
     "output_type": "stream",
     "text": [
      "(12007, 784) (12007,)\n"
     ]
    }
   ],
   "source": [
    "print TrainImg.shape, TrainLabel.shape"
   ]
  },
  {
   "cell_type": "code",
   "execution_count": 14,
   "metadata": {
    "collapsed": false
   },
   "outputs": [
    {
     "name": "stdout",
     "output_type": "stream",
     "text": [
      "0\n",
      "1.25684004502\n",
      "1.24164815376\n",
      "1.26120744126\n",
      "1.48944981533\n",
      "1.42191229761\n",
      "1.35001077321\n",
      "1.38572806651\n",
      "1.27682273426\n",
      "1.27379214389\n",
      "1.20698660435\n",
      "1.23620503752\n",
      "1.22636129659\n",
      "1.26728270091\n",
      "1.25352290223\n",
      "1.2096530108\n",
      "1.22281346457\n",
      "1.2218125007\n",
      "1.25360403675\n",
      "1.22031683162\n",
      "1.31860421637\n",
      "1.21854260845\n",
      "1.21500628291\n",
      "1.2256233538\n",
      "1.23852700634\n",
      "1.28201122993\n",
      "1.36199331146\n",
      "1.28535128378\n",
      "1.26233433944\n",
      "1.22466381259\n",
      "1.25061079917\n",
      "1.23256902008\n",
      "1.26829308108\n",
      "1.28539810417\n",
      "1.33731624531\n",
      "1.24264702322\n",
      "1.20215469721\n",
      "1.23588708329\n",
      "1.30227738993\n",
      "1.23471641517\n",
      "1.20263013544\n",
      "1.21780567615\n",
      "1.2081187947\n",
      "1.22774431056\n",
      "1.29508696505\n",
      "1.25502486548\n",
      "1.22379392463\n",
      "1.2410451342\n",
      "1.23533016631\n",
      "1.36963550153\n",
      "1.25226525592\n",
      "1.21108843748\n",
      "1.25969742864\n",
      "1.29253059604\n",
      "1.27527438643\n",
      "1.22625326152\n",
      "1.34851349864\n",
      "1.32165421033\n",
      "1.3694859679\n",
      "1.49077045454\n",
      "1.37377847013\n",
      "1.22396313856\n",
      "1.39753150334\n",
      "1.25360080003\n",
      "1.22890929324\n",
      "1.2159268061\n",
      "1.25463859154\n",
      "1.30011353637\n",
      "1.21647845844\n",
      "1.3324465687\n",
      "1.511414192\n",
      "1.38751172382\n",
      "1.24639312804\n",
      "1.30661919256\n",
      "1.23202805721\n",
      "1.20804304325\n",
      "1.24348262208\n",
      "1.33681260829\n",
      "1.35358532945\n",
      "1.21665750806\n",
      "1.23963315247\n",
      "1.23647650702\n",
      "1.25465940722\n",
      "1.27847975388\n",
      "1.25717518789\n",
      "1.23419045231\n",
      "1.21426982101\n",
      "1.2460328687\n",
      "1.20916017932\n",
      "1.33848668801\n",
      "1.29537053842\n",
      "1.20348605678\n",
      "1.26578134598\n",
      "1.27906314804\n",
      "1.2848572652\n",
      "1.21702952648\n",
      "1.21386727227\n",
      "1.37107754391\n",
      "1.25863710716\n",
      "1.2672757138\n",
      "1.260462236\n",
      "1.23006108415\n",
      "1.35636654606\n",
      "1.30178515716\n",
      "1.39666941764\n",
      "1.26080102785\n",
      "1.21753252688\n",
      "1.25284802206\n",
      "1.21398541703\n",
      "1.27914910819\n",
      "1.39224434929\n",
      "1.23849868741\n",
      "1.22028240967\n",
      "1.25731003159\n",
      "1.20217555585\n",
      "1.23302239642\n",
      "1.27333434795\n",
      "1.3110768379\n",
      "500\n",
      "1.2682073538\n",
      "1.22346052493\n",
      "1.2367098171\n",
      "1.26342066959\n",
      "1.25719743508\n",
      "1.21109669918\n",
      "1.26166853184\n",
      "1.20840071823\n",
      "1.25739382033\n",
      "1.23878862373\n",
      "1.21356120503\n",
      "1000\n",
      "1500\n",
      "2000\n",
      "2500\n",
      "3000\n",
      "3500\n"
     ]
    }
   ],
   "source": [
    "# try the mini_batch\n",
    "N = 4000\n",
    "p = 784\n",
    "# beta = np.random.rand(p)\n",
    "beta = np.ones(p)\n",
    "rd = RandomWalkProposer()\n",
    "sig0 = 0.1\n",
    "logm = Logistic(p, 12007, rd)\n",
    "sd_est = 0\n",
    "sd_array = np.ones(N)\n",
    "miniBatchSize = 50\n",
    "num_sd = 10\n",
    "ll = []\n",
    "acc = []\n",
    "ll_full = np.zeros(N)\n",
    "acc_full = np.zeros(N)\n",
    "T0 = 3000.0\n",
    "\n",
    "for i in range(N):\n",
    "    sd_vect = np.zeros(num_sd)\n",
    "    if i > N /2:\n",
    "        T = T0 / (i + 1.0)**2.0\n",
    "    else:\n",
    "        T = T0 / (i + 1.0) ** 0.2\n",
    "    # sig = sig0 / (i + 1.0)**0.5\n",
    "    T =T0\n",
    "    sig = sig0\n",
    "    \n",
    "    for j in range(num_sd):\n",
    "        data = randomData(miniBatchSize, TrainImg, TrainLabel)\n",
    "        beta1 = rd.update(beta, sig)\n",
    "        sd_vect[j] = logm.delta(beta, beta1, data[0], data[1], T)\n",
    "    sd_est = sd_est *0.7 + np.std(sd_vect) *0.3\n",
    "    u = np.random.random()\n",
    "    sd_array[i] = sd_est\n",
    "    if sd_est > 1.2:\n",
    "        ll_full[i] = logm.ll(beta, TestImg[0:1000,:], TestLabel[0:1000])\n",
    "        acc_full[i] = logm.predAcc(beta, TestImg[0:1000,:], TestLabel[0:1000])\n",
    "        print sd_est\n",
    "        continue\n",
    "    # X_log = ecdf_l[bisect(x_l, u)]\n",
    "    x_c = getRandXcorr(ecdfmat, sd_vect,sd_est)\n",
    "    beta1 = rd.update(beta, sig)\n",
    "    data = randomData(miniBatchSize, TrainImg, TrainLabel)\n",
    "    delta = logm.delta(beta, beta1, data[0], data[1], T)\n",
    "    if i % 500 == 0:\n",
    "        print i\n",
    "    if (delta + x_c > 0):\n",
    "        beta = beta1\n",
    "    # data = randomData(200, TestImg, TestLabel)\n",
    "    # ll.append(logm.ll(beta, data[0], data[1]))\n",
    "    # acc.append(logm.predAcc(beta, data[0], data[1]))\n",
    "    ll_full[i] = logm.ll(beta, TestImg[0:1000,:], TestLabel[0:1000])\n",
    "    acc_full[i] = logm.predAcc(beta, TestImg[0:1000,:], TestLabel[0:1000])"
   ]
  },
  {
   "cell_type": "code",
   "execution_count": 12,
   "metadata": {
    "collapsed": false
   },
   "outputs": [
    {
     "data": {
      "image/png": "[encoded data removed]",
      "text/plain": [
       "<matplotlib.figure.Figure at 0x7f682e1f6ad0>"
      ]
     },
     "metadata": {},
     "output_type": "display_data"
    },
    {
     "name": "stdout",
     "output_type": "stream",
     "text": [
      "0.288897583504\n"
     ]
    },
    {
     "data": {
      "image/png": "[encoded data removed]",
      "text/plain": [
       "<matplotlib.figure.Figure at 0x7f682d9ed110>"
      ]
     },
     "metadata": {},
     "output_type": "display_data"
    },
    {
     "data": {
      "text/plain": [
       "[<matplotlib.lines.Line2D at 0x7f6828a5bd50>]"
      ]
     },
     "execution_count": 12,
     "metadata": {},
     "output_type": "execute_result"
    },
    {
     "data": {
      "image/png": "[encoded data removed]",
      "text/plain": [
       "<matplotlib.figure.Figure at 0x7f6828abd5d0>"
      ]
     },
     "metadata": {},
     "output_type": "display_data"
    }
   ],
   "source": [
    "plt.plot(sd_array)\n",
    "plt.show()\n",
    "print np.mean(sd_array)\n",
    "plt.plot(ll_full)\n",
    "plt.show()\n",
    "plt.plot(acc_full)"
   ]
  },
  {
   "cell_type": "code",
   "execution_count": 79,
   "metadata": {
    "collapsed": true
   },
   "outputs": [],
   "source": [
    "ll_full_final = ll_full\n",
    "acc_full_final = acc_full"
   ]
  },
  {
   "cell_type": "code",
   "execution_count": 2,
   "metadata": {
    "collapsed": true
   },
   "outputs": [],
   "source": [
    "previousRes = scipy.io.loadmat('xl0_ones_hyc_final.mat')\n",
    "cumulate_datasize_xl = previousRes['cumulate_datasize_xl'][0]\n",
    "cost_list_xl = previousRes['cost_list_xl'][0]\n",
    "accuracy_xl = previousRes['accuracy_xl'][0]\n"
   ]
  },
  {
   "cell_type": "code",
   "execution_count": 84,
   "metadata": {
    "collapsed": false
   },
   "outputs": [
    {
     "name": "stdout",
     "output_type": "stream",
     "text": [
      "(1000,)\n"
     ]
    }
   ],
   "source": [
    "print accuracy_xl[0].shape"
   ]
  },
  {
   "cell_type": "code",
   "execution_count": 13,
   "metadata": {
    "collapsed": false
   },
   "outputs": [
    {
     "data": {
      "image/png": "[encoded data removed]",
      "text/plain": [
       "<matplotlib.figure.Figure at 0x7f6828b266d0>"
      ]
     },
     "metadata": {},
     "output_type": "display_data"
    },
    {
     "data": {
      "image/png": "[encoded data removed]",
      "text/plain": [
       "<matplotlib.figure.Figure at 0x7f682d947290>"
      ]
     },
     "metadata": {},
     "output_type": "display_data"
    }
   ],
   "source": [
    "plt.figure()\n",
    "#plt.plot(cumulate_datasize_xl,cost_list_xl,'r')\n",
    "#plt.hold(True)\n",
    "x_ax = np.ones(N) * miniBatchSize\n",
    "x_ax = np.cumsum(x_ax)\n",
    "plt.plot(x_ax, ll_full, 'b')\n",
    "plt.plot(cumulate_datasize_xl,cost_list_xl,'r')\n",
    "plt.xlabel('Cumulative Data Size')\n",
    "plt.ylabel('Likelihood Value')\n",
    "plt.axis([-1,200000,-25,1])\n",
    "\n",
    "# plt.savefig('ll_hyc.png')\n",
    "plt.show()\n",
    "\n",
    "\n",
    "# plot the accuracy with respect to the cumulative data size\n",
    "plt.figure()\n",
    "#plt.plot(cumulate_datasize_xl, accuracy_xl, 'r')\n",
    "#plt.hold(True)\n",
    "plt.plot(x_ax, acc_full, 'b')\n",
    "plt.plot(cumulate_datasize_xl, accuracy_xl, 'r')\n",
    "plt.xlabel('Cumulative Data Size')\n",
    "plt.ylabel('Accuracy')\n",
    "plt.axis([0, 200000 ,0.4, 1])\n",
    "\n",
    "# plt.savefig('acc_hyc.png')\n",
    "plt.show()"
   ]
  },
  {
   "cell_type": "code",
   "execution_count": 18,
   "metadata": {
    "collapsed": false
   },
   "outputs": [
    {
     "name": "stdout",
     "output_type": "stream",
     "text": [
      "0\n",
      "500\n",
      "1000\n",
      "1500\n",
      "2000\n",
      "2500\n",
      "3000\n",
      "3500\n",
      "4000\n",
      "4500\n",
      "5000\n",
      "5500\n",
      "6000\n",
      "6500\n",
      "7000\n",
      "7500\n"
     ]
    }
   ],
   "source": [
    "# non-temperature case:\n",
    "# try the mini_batch\n",
    "N = 8000\n",
    "p = 784\n",
    "# beta = np.random.rand(p)\n",
    "beta = np.ones(p)\n",
    "rd = RandomWalkProposer()\n",
    "sig0 = 0.1\n",
    "logm = Logistic(p, 12007, rd)\n",
    "sd_est = 0\n",
    "sd_array = np.zeros(N)\n",
    "miniBatchSize = 50\n",
    "num_sd = 10\n",
    "#ll = []\n",
    "#acc = []\n",
    "ll_full_nonT = np.zeros(N)\n",
    "acc_full_nonT = np.zeros(N)\n",
    "T0 = 10.0\n",
    "for i in range(N):\n",
    "    sd_vect = np.zeros(num_sd)\n",
    "    T = 1.0\n",
    "    # sig = sig0 / (i + 1.0)**0.5\n",
    "    sig = sig0\n",
    "    for j in range(num_sd):\n",
    "        data = randomData(miniBatchSize, TrainImg, TrainLabel)\n",
    "        beta1 = rd.update(beta, sig)\n",
    "        sd_vect[j] = logm.delta(beta, beta1, data[0], data[1], T)\n",
    "    sd_est = sd_est *0.7 + np.std(sd_vect) *0.3\n",
    "    u = np.random.random()\n",
    "    sd_array[i] = sd_est\n",
    "    # X_log = ecdf_l[bisect(x_l, u)]\n",
    "    x_c = x_corr[bisect(ecdf_corr, u)]\n",
    "    x_c = x_c *sd_est\n",
    "    beta1 = rd.update(beta, sig)\n",
    "    data = randomData(miniBatchSize, TrainImg, TrainLabel)\n",
    "    delta = logm.delta(beta, beta1, data[0], data[1], T)\n",
    "    if i % 500 == 0:\n",
    "        print i\n",
    "    if (delta + x_c > 0):\n",
    "        beta = beta1\n",
    "    # data = randomData(200, TestImg, TestLabel)\n",
    "    # ll.append(logm.ll(beta, data[0], data[1]))\n",
    "    # acc.append(logm.predAcc(beta, data[0], data[1]))\n",
    "    ll_full_nonT[i] = logm.ll(beta, TestImg[0:1000,:], TestLabel[0:1000])\n",
    "    acc_full_nonT[i] = logm.predAcc(beta, TestImg[0:1000,:], TestLabel[0:1000])"
   ]
  },
  {
   "cell_type": "code",
   "execution_count": 99,
   "metadata": {
    "collapsed": false,
    "scrolled": true
   },
   "outputs": [
    {
     "data": {
      "image/png": "[encoded data removed]",
      "text/plain": [
       "<matplotlib.figure.Figure at 0x7f3510fe0f10>"
      ]
     },
     "metadata": {},
     "output_type": "display_data"
    },
    {
     "data": {
      "image/png": "[encoded data removed]",
      "text/plain": [
       "<matplotlib.figure.Figure at 0x7f35123ef550>"
      ]
     },
     "metadata": {},
     "output_type": "display_data"
    }
   ],
   "source": [
    "\"\"\"\n",
    "compare the result\n",
    "\"\"\"\n",
    "# plot the likelihood with respect to the cumulative data size\n",
    "plt.figure()\n",
    "line_up, = plt.plot(cumulate_datasize_xl,cost_list_xl,'r')\n",
    "plt.hold(True)\n",
    "x_ax = np.ones(N) * miniBatchSize\n",
    "x_ax = np.cumsum(x_ax)\n",
    "line_mid, = plt.plot(x_ax, ll_full, 'b')\n",
    "# line_down, = plt.plot(x_ax, ll_full_nonT, 'y')\n",
    "plt.xlabel('Cumulative Data Size')\n",
    "plt.ylabel('Likelihood Value')\n",
    "plt.axis([-1,200000,-25,1])\n",
    "\n",
    "plt.legend([line_up, line_mid] , ['adaptive MH', 'minibatch MH'],  loc='lower right')\n",
    "\n",
    "plt.savefig('ll_hyc.png')\n",
    "plt.show()\n",
    "\n",
    "\n",
    "# plot the accuracy with respect to the cumulative data size\n",
    "plt.figure()\n",
    "line_up , = plt.plot(cumulate_datasize_xl, accuracy_xl, 'r')\n",
    "plt.hold(True)\n",
    "line_mid, = plt.plot(x_ax, acc_full, 'b')\n",
    "# line_down, = plt.plot(x_ax, acc_full_nonT, 'y')\n",
    "plt.xlabel('Cumulative Data Size')\n",
    "plt.ylabel('Accuracy')\n",
    "plt.axis([0, 200000 ,0.4, 1])\n",
    "\n",
    "plt.legend([line_up, line_mid],  ['adaptive MH', 'minibatch MH'],  loc='lower right')\n",
    "\n",
    "plt.savefig('acc_hyc.png')\n",
    "plt.show()"
   ]
  },
  {
   "cell_type": "code",
   "execution_count": null,
   "metadata": {
    "collapsed": true
   },
   "outputs": [],
   "source": [
    "scipy.io.savemat('xl0_ones_hyc_final.mat',{'cumulate_datasize_xl':cumulate_datasize_xl, 'cost_list_xl':cost_list_xl, 'accuracy_xl':accuracy_xl})\n"
   ]
  },
  {
   "cell_type": "code",
   "execution_count": 63,
   "metadata": {
    "collapsed": false
   },
   "outputs": [],
   "source": [
    "scipy.io.savemat('xl0_ones_hyc_final.mat',{'cumulate_datasize_xl':cumulate_datasize_xl, 'cost_list_xl':cost_list_xl, 'accuracy_xl':accuracy_xl})\n",
    "scipy.io.savemat('hy0_ones_hyc_final.mat',{'x_ax':x_ax, 'll_full':ll_full, 'll_full_nonT':ll_full_nonT, 'acc_full':acc_full, 'acc_full_nonT':acc_full_nonT})"
   ]
  },
  {
   "cell_type": "code",
   "execution_count": null,
   "metadata": {
    "collapsed": true
   },
   "outputs": [],
   "source": []
  }
 ],
 "metadata": {
  "kernelspec": {
   "display_name": "Python 2",
   "language": "python",
   "name": "python2"
  },
  "language_info": {
   "codemirror_mode": {
    "name": "ipython",
    "version": 2
   },
   "file_extension": ".py",
   "mimetype": "text/x-python",
   "name": "python",
   "nbconvert_exporter": "python",
   "pygments_lexer": "ipython2",
   "version": "2.7.6"
  }
 },
 "nbformat": 4,
 "nbformat_minor": 0
}
