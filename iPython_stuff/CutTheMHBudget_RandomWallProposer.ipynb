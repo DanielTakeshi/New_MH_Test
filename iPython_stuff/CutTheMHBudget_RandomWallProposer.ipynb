{
 "cells": [
  {
   "cell_type": "code",
   "execution_count": 22,
   "metadata": {
    "collapsed": false
   },
   "outputs": [
    {
     "name": "stdout",
     "output_type": "stream",
     "text": [
      "success\n"
     ]
    }
   ],
   "source": [
    "import numpy as np\n",
    "from math import *\n",
    "import matplotlib.pyplot as plt\n",
    "from scipy.stats import t\n",
    "import copy\n",
    "%matplotlib inline\n",
    "print 'success'"
   ]
  },
  {
   "cell_type": "code",
   "execution_count": 23,
   "metadata": {
    "collapsed": false
   },
   "outputs": [
    {
     "name": "stdout",
     "output_type": "stream",
     "text": [
      "success\n"
     ]
    }
   ],
   "source": [
    "# generate training data set\n",
    "sigma1_sq = 10\n",
    "sigma2_sq = 1\n",
    "sigmax_sq = 2\n",
    "theta1 = 0\n",
    "theta2 = 1\n",
    "num_samples = 30000\n",
    "\n",
    "X = np.zeros(num_samples)\n",
    "for i in xrange(num_samples):\n",
    "    u = np.random.random()\n",
    "    if (u<0.5):\n",
    "        X[i] = np.random.normal(theta1, np.sqrt(sigmax_sq))\n",
    "    else:\n",
    "        X[i] = np.random.normal(theta1+theta2, np.sqrt(sigmax_sq))\n",
    "\n",
    "# visualize the data\n",
    "# plt.figure()\n",
    "# plt.hist(X, bins = 10)\n",
    "print 'success'"
   ]
  },
  {
   "cell_type": "code",
   "execution_count": 24,
   "metadata": {
    "collapsed": false
   },
   "outputs": [
    {
     "data": {
      "image/png": "[encoded data removed]",
      "text/plain": [
       "<matplotlib.figure.Figure at 0x113764550>"
      ]
     },
     "metadata": {},
     "output_type": "display_data"
    }
   ],
   "source": [
    "# do the training to estimate \\theta value random walk proposer\n",
    "def random_walk_proposer(theta1_t, theta2_t, sigmaraw1_sq, sigmaraw2_sq):\n",
    "    u1 = np.random.normal(0, sigmaraw1_sq)\n",
    "    u2 = np.random.normal(0, sigmaraw2_sq)\n",
    "    theta1_new = theta1_t + u1\n",
    "    theta2_new = theta2_t + u2\n",
    "    return (theta1_new, theta2_new)\n",
    "\n",
    "def ll_theta(theta1, theta_2, sigma1, sigma2):\n",
    "    den1 = sigma1*sqrt(2*pi)\n",
    "    den2 = sigma2*sqrt(2*pi)\n",
    "    exp1 = exp(-1*(theta1)**2/(2*sigma1**2))\n",
    "    exp2 = exp(-1*(theta2)**2/(2*sigma2**2))\n",
    "    ll = exp1/den1 * exp2/den2\n",
    "    return ll\n",
    "    \n",
    "def eval_U0(N, theta1_t, theta2_t, theta1_new, theta2_new, sigma1, sigma2):\n",
    "    u = np.random.random()\n",
    "    rho_theta_t = ll_theta(theta1_t, theta2_t, sigma1, sigma2)\n",
    "    rho_theta_new = ll_theta(theta1_new, theta2_new, sigma1, sigma2)\n",
    "    U0 = 1/N * log( u * rho_theta_t / rho_theta_new )\n",
    "    return U0\n",
    "\n",
    "def ll_data(x, theta_t, theta_new, sigmax):\n",
    "    # for theta_t\n",
    "    ll_x_theta_t1=0.5*exp(-1*(x-theta_t[0])**2/(2*sigmax**2))/(sigmax*sqrt(2*pi))\n",
    "    ll_x_theta_t2=0.5*exp(-1*(x-theta_t[0]-theta_t[1])**2/(2*sigmax**2))/(sigmax*sqrt(2*pi))\n",
    "    ll_x_theta_t = ll_x_theta_t1 + ll_x_theta_t2\n",
    "    \n",
    "    # for theta_new\n",
    "    ll_x_theta_n1=0.5*exp(-1*(x-theta_new[0])**2/(2*sigmax**2))/(sigmax*sqrt(2*pi))\n",
    "    ll_x_theta_n2=0.5*exp(-1*(x-theta_new[0]-theta_new[1])**2/(2*sigmax**2))/(sigmax*sqrt(2*pi))\n",
    "    ll_x_theta_n = ll_x_theta_n1 + ll_x_theta_n2\n",
    "    \n",
    "    res = ll_x_theta_n/ll_x_theta_t\n",
    "    if res ==0 :\n",
    "        return log(0.0000000000001)\n",
    "    else:\n",
    "        return log(res)\n",
    "\n",
    "def make_decision(l_value,N, U0):\n",
    "    n = float(len(l_value))\n",
    "    l_mean = sum(l_value)/n\n",
    "    l_square = map(lambda x: x ** 2, l_value)\n",
    "    l_square_mean = sum( l_square) / n\n",
    "    sl = sqrt( n/(n-1) * (l_square_mean - l_mean**2) )\n",
    "    s = sl/sqrt(n) * sqrt(1 - (n-1)/(N-1) )\n",
    "    \n",
    "    if s == 0: \n",
    "        delta = 0\n",
    "    else:\n",
    "        t_stats = abs( (l_mean - U0)/s )\n",
    "        delta = 1 - t.cdf(t_stats, n-1)\n",
    "    return delta\n",
    "    \n",
    "def generate_theta(N, theta_t, sigma_theta, sigmax, X, epsilon, sigmaraw1_sq, sigmaraw2_sq):\n",
    "    # generate potential new theta value\n",
    "    theta_new = random_walk_proposer(theta_t[0], theta_t[1], sigmaraw1_sq, sigmaraw2_sq)\n",
    "    \n",
    "    # compute U0\n",
    "    U0 = eval_U0(N, theta_t[0], theta_t[1], theta_new[0], theta_new[1], sigma_theta[0], sigma_theta[1])\n",
    "    \n",
    "    # take new data points to calculate new delta value\n",
    "    m = 10\n",
    "    l_value = []\n",
    "    for i in range(0,m):\n",
    "        mid = ll_data(X[i], theta_t, theta_new, sigmax)\n",
    "        l_value.append(mid)\n",
    "    \n",
    "    # make decision\n",
    "    delta = make_decision(l_value, N, U0)\n",
    "    while (delta > epsilon) and (m < N-10) :\n",
    "        for i in range(m,m+10):\n",
    "            mid = ll_data(X[m], theta_t, theta_new, sigmax)\n",
    "            l_value.append(mid)\n",
    "        m = m + 10\n",
    "        delta = make_decision(l_value, N, U0)\n",
    "    \n",
    "    l_mean = sum(l_value) / float(len(l_value))\n",
    "    if (l_mean > U0):\n",
    "        return theta_new\n",
    "    else:\n",
    "        return theta_t\n",
    "\n",
    "def train(X, sigma_theta, sigmax, sigmaraw1_sq, sigmaraw2_sq):\n",
    "    theta1_start = np.random.random()\n",
    "    theta2_start = np.random.random()\n",
    "    theta_t = [theta1_start, theta2_start]\n",
    "    theta1_list = [theta1_start]\n",
    "    theta2_list = [theta2_start]\n",
    "    epsilon = 0.05\n",
    "    for iter in range(100000):\n",
    "        res = generate_theta(len(X), theta_t, sigma_theta, sigmax, X, epsilon,sigmaraw1_sq, sigmaraw2_sq)\n",
    "        theta1_list.append(res[0])\n",
    "        theta2_list.append(res[1])\n",
    "        theta_t = copy.deepcopy(res)\n",
    "    \n",
    "    return (theta1_list, theta2_list)\n",
    "\n",
    "# train\n",
    "sigma_theta = [sqrt(sigma1_sq), sqrt(sigma2_sq)]\n",
    "sigmax = sqrt(sigmax_sq)\n",
    "sigmaraw1_sq = 4\n",
    "sigmaraw2_sq = 1\n",
    "(sigma1_list, sigma2_list) = train(X, sigma_theta, sigmax,sigmaraw1_sq, sigmaraw2_sq)\n",
    "\n",
    "# plot\n",
    "plt.figure()\n",
    "plt.plot(sigma1_list, sigma2_list,'ro') # estimated value\n",
    "plt.hold(True)\n",
    "plt.plot(sqrt(sigma1_sq), sqrt(sigma2_sq), 'go') # ground truth value\n",
    "plt.axis([-15, 15, -15, 15])\n",
    "plt.show()"
   ]
  }
 ],
 "metadata": {
  "kernelspec": {
   "display_name": "Python 2",
   "language": "python",
   "name": "python2"
  },
  "language_info": {
   "codemirror_mode": {
    "name": "ipython",
    "version": 2
   },
   "file_extension": ".py",
   "mimetype": "text/x-python",
   "name": "python",
   "nbconvert_exporter": "python",
   "pygments_lexer": "ipython2",
   "version": "2.7.11"
  }
 },
 "nbformat": 4,
 "nbformat_minor": 0
}
